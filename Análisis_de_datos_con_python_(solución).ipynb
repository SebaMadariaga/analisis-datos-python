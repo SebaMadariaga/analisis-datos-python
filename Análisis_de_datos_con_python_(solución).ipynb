{
  "nbformat": 4,
  "nbformat_minor": 0,
  "metadata": {
    "colab": {
      "provenance": [],
      "toc_visible": true
    },
    "kernelspec": {
      "name": "python3",
      "display_name": "Python 3"
    },
    "language_info": {
      "name": "python"
    }
  },
  "cells": [
    {
      "cell_type": "markdown",
      "source": [
        "# **Análisis de datos con Python**\n",
        "Link de colab: https://colab.research.google.com/drive/1H_uAlsSYyKKJ4inrv0PrnDbdOnRSizgH\n",
        "\n",
        "Link de colab con solución: https://colab.research.google.com/drive/1TyJxdxDo4klOCU8erjAou0QqaOu2um8r\n",
        "## **Contenido**\n",
        "\n",
        "### **Primer bloque del taller**\n",
        "\n",
        "#### **Contenedores en Python:**\n",
        "- Listas, tuplas y diccionarios.\n",
        "- Acceso a elementos de los contenedores y subcontenedores.\n",
        "- Métodos y Funciones.\n",
        "\n",
        "#### **Estructura de control:**\n",
        "- Operadores\n",
        "- Estructura condicionales.\n",
        "- Estructuras iterativas.\n",
        "- Listas por comprensión\n",
        "\n",
        "### **Funciones:**\n",
        "- Funciones integradas.\n",
        "- Funciones definidas por usuarios: `def` y `lambda`.\n",
        "- Librerías e instalación.\n",
        "\n",
        "### **Segundo bloque del taller**\n",
        "\n",
        "#### **Librería Numpy:**\n",
        "- Arrays.\n",
        "- Vectorización.\n",
        "- Manipulación básica.\n",
        "\n",
        "#### **Librería Pandas:**\n",
        "- Estructura de DataFrame y Series.\n",
        "- Carga de base de datos.\n",
        "- Transformación básica de datos.\n",
        "\n",
        "#### **Visualización de datos:**\n",
        "- Desde objetos iterables.\n",
        "- Desde Dataframe.\n",
        "\n",
        "### **Aplicación de análisis de datos con Python**\n",
        "\n",
        "### **Referencias**"
      ],
      "metadata": {
        "id": "-nxnb7L7bFKU"
      }
    },
    {
      "cell_type": "markdown",
      "source": [
        "# **Contenedores en Python**\n",
        "Los contenedores son estructuras de datos integradas que permiten organizar, evaluar y manipular los tipos de datos. Revisaremos, las siguiente estructuras `listas`, `tuplas` y `diccionarios`."
      ],
      "metadata": {
        "id": "nZSLlg9Th2b7"
      }
    },
    {
      "cell_type": "markdown",
      "source": [
        "## **Lista**\n",
        "\n",
        "Contiene un conjunto de valores que son guardados de forma secuencial. Es mutable, es decir, se pueden agregar, quitar o modificar elementos de este.\n",
        "\n",
        "Las `lista` son creadas con `[]` separando sus elementos por una coma. Pueden almacenar diferentes tipos de datos."
      ],
      "metadata": {
        "id": "idC-0GITlaAm"
      }
    },
    {
      "cell_type": "code",
      "source": [
        "#Ejemplo de listas\n",
        "Lista_supermercado=['manzana','pera','pan','queso','galletas']\n",
        "print(Lista_supermercado)"
      ],
      "metadata": {
        "id": "SLoO8An6kUws"
      },
      "execution_count": null,
      "outputs": []
    },
    {
      "cell_type": "markdown",
      "source": [
        "Para `acceder a los elementos de una lista` se debe utilizar `[]`. Es importante considerar que en python los índices comienzan desde `0`."
      ],
      "metadata": {
        "id": "_XN47d6lmz6K"
      }
    },
    {
      "cell_type": "code",
      "source": [
        "#Se debe identificar la posición del dato para acceder en el caso de lista\n",
        "\n",
        "#Lista_supermercado=['manzana','pera','pan','queso','galletas']\n",
        "#                     0         1      2     3       4\n",
        "\n",
        "print(Lista_supermercado[0])\n",
        "print(Lista_supermercado[-1])"
      ],
      "metadata": {
        "id": "tmFQQQ1eoMYJ"
      },
      "execution_count": null,
      "outputs": []
    },
    {
      "cell_type": "markdown",
      "source": [
        "Para las `listas`, se ocupa el concepto `slice`, para obtener un subcontenedor del contenedor. Los elementos dependeran de como lo realizamos. Para realizar un slice se debe utilizar `[inicio:fin-1]`."
      ],
      "metadata": {
        "id": "v_V-_uG5h1Mz"
      }
    },
    {
      "cell_type": "code",
      "source": [
        "print(Lista_supermercado[0:1])\n",
        "print(Lista_supermercado[1:4])"
      ],
      "metadata": {
        "id": "mqKRtrjbf-Jf"
      },
      "execution_count": null,
      "outputs": []
    },
    {
      "cell_type": "markdown",
      "source": [
        "Las principales métodos para `listas` son:\n",
        "\n",
        "- append : Agregar elemento al final.\n",
        "- pop : Retorna y elimina el objecto ubicado en el índice indicado.\n",
        "- remove : Se usa cuando se conoce el nombre del elemento pero no su posición.\n",
        "- reverse: Cambia dirección en que se encuetran ubicacos los elementos de una lista.\n",
        "- sort : Por defecto, ordena elementos de menor a mayor.\n",
        "- index: Busca un elemento dentro de una lista y entrega la posición."
      ],
      "metadata": {
        "id": "vYrEcPjeiqAT"
      }
    },
    {
      "cell_type": "code",
      "source": [
        "#Ejercicios de métodos para listas:\n",
        "\n",
        "##Considera la siguientes listas inicial:\n",
        "name_pokemon=['bulbasaur','charmander','squirtle']\n",
        "total_pokemon=[318,309,314]"
      ],
      "metadata": {
        "id": "3F1bKF5EkS4i"
      },
      "execution_count": null,
      "outputs": []
    },
    {
      "cell_type": "code",
      "source": [
        "##Agregar el pokemon 'pikachu' de la lista name_pokemon\n",
        "name_pokemon=['bulbasaur','charmander','squirtle']\n",
        "name_pokemon.append('pikachu')\n",
        "print(name_pokemon)"
      ],
      "metadata": {
        "id": "Hh4cC7F83ZEy"
      },
      "execution_count": null,
      "outputs": []
    },
    {
      "cell_type": "code",
      "source": [
        "##Elimina a 'charmander' utilizando su posición de la lista name_pokemon\n",
        "name_pokemon=['bulbasaur','charmander','squirtle']\n",
        "name_pokemon.pop(1)\n",
        "print(name_pokemon)"
      ],
      "metadata": {
        "id": "ukxqSPY23cFf"
      },
      "execution_count": null,
      "outputs": []
    },
    {
      "cell_type": "code",
      "source": [
        "##Elimina a 'bulbasaur' utilizando su nombre de la lista name_pokemon\n",
        "name_pokemon=['bulbasaur','charmander','squirtle']\n",
        "name_pokemon.remove('bulbasaur')\n",
        "print(name_pokemon)"
      ],
      "metadata": {
        "id": "nsW9XtV-3eXx"
      },
      "execution_count": null,
      "outputs": []
    },
    {
      "cell_type": "code",
      "source": [
        "##Cambia la posición de los elementos de la lista name_pokemon\n",
        "name_pokemon=['bulbasaur','charmander','squirtle']\n",
        "name_pokemon.reverse()\n",
        "print(name_pokemon)"
      ],
      "metadata": {
        "id": "pNahI_Na3g63"
      },
      "execution_count": null,
      "outputs": []
    },
    {
      "cell_type": "code",
      "source": [
        "##Ordena los elementos de mayor a menor de la lista total_pokemon\n",
        "total_pokemon=[318,309,314]\n",
        "total_pokemon.sort()\n",
        "print(total_pokemon)"
      ],
      "metadata": {
        "id": "0MEK5GQD3i24"
      },
      "execution_count": null,
      "outputs": []
    },
    {
      "cell_type": "code",
      "source": [
        "##Busca la posición del dato 314 de la lista total_pokemon\n",
        "total_pokemon=[318,309,314]\n",
        "print(total_pokemon.index(314))"
      ],
      "metadata": {
        "id": "4gsN8WOq3klq"
      },
      "execution_count": null,
      "outputs": []
    },
    {
      "cell_type": "markdown",
      "source": [
        "Funciones importantes para `listas`.\n",
        "\n",
        "- len : Indica tamaño de lista.\n",
        "- min : Mínimo valor dentro de lista.\n",
        "- max : Máximo valor dentro de lista.\n",
        "- sum : Suma elementos dentro de lista."
      ],
      "metadata": {
        "id": "6-VpMRmgrDJr"
      }
    },
    {
      "cell_type": "code",
      "source": [
        "#Ejercicios de métodos para listas:\n",
        "\n",
        "##Considera la siguientes listas inicial:\n",
        "name_pokemon=['bulbasaur','charmander','squirtle']\n",
        "total_pokemon=[318,309,314]"
      ],
      "metadata": {
        "id": "tqcOWzHPmJDv"
      },
      "execution_count": null,
      "outputs": []
    },
    {
      "cell_type": "code",
      "source": [
        "##Indica el tamaño de la lista name_pokemon\n",
        "name_pokemon=['bulbasaur','charmander','squirtle']\n",
        "print(len(name_pokemon))"
      ],
      "metadata": {
        "id": "HW63MGGX4WVc"
      },
      "execution_count": null,
      "outputs": []
    },
    {
      "cell_type": "code",
      "source": [
        "##Indica el mínimo valor de la lista total_pokemon\n",
        "total_pokemon=[318,309,314]\n",
        "print(min(total_pokemon))"
      ],
      "metadata": {
        "id": "URaQ9M6A4Ydp"
      },
      "execution_count": null,
      "outputs": []
    },
    {
      "cell_type": "code",
      "source": [
        "##Indica el máximo valor de la lista total_pokemon\n",
        "total_pokemon=[318,309,314]\n",
        "print(max(total_pokemon))"
      ],
      "metadata": {
        "id": "8dKTUeOR4aKg"
      },
      "execution_count": null,
      "outputs": []
    },
    {
      "cell_type": "code",
      "source": [
        "##Suma los valores de la lista total_pokemon\n",
        "total_pokemon=[318,309,314]\n",
        "print(sum(total_pokemon))"
      ],
      "metadata": {
        "id": "ycHaUfro4b5u"
      },
      "execution_count": null,
      "outputs": []
    },
    {
      "cell_type": "markdown",
      "source": [
        "## **Tupla**\n",
        "Son contenedores de datos no mutables, pero tienen la ventaja de usar menos memoria y son más rápidas.\n",
        "\n",
        "La `tupla` son creadas con `()` separando sus elementos por una coma. Pueden almacenar diferentes tipos de datos."
      ],
      "metadata": {
        "id": "gCBCZHeAsdH6"
      }
    },
    {
      "cell_type": "code",
      "source": [
        "#Ejemplo de tupla\n",
        "Tupla_nacimiento=(27,'noviembre',1989)\n",
        "print(Tupla_nacimiento)"
      ],
      "metadata": {
        "id": "MNCOoYplsriY"
      },
      "execution_count": null,
      "outputs": []
    },
    {
      "cell_type": "markdown",
      "source": [
        "Para acceder a los elementos de una `tupla` se debe utilizar `[]`. No olvidar que en python los índices comienzan desde 0."
      ],
      "metadata": {
        "id": "XQ0nfqgDs-9B"
      }
    },
    {
      "cell_type": "code",
      "source": [
        "#Ejemplo para acceder a los valores de la tupla\n",
        "print(Tupla_nacimiento[0])\n",
        "print(Tupla_nacimiento[-1])"
      ],
      "metadata": {
        "id": "_6wn7Q5ds5mb"
      },
      "execution_count": null,
      "outputs": []
    },
    {
      "cell_type": "markdown",
      "source": [
        "En el caso de la `tupla`, se pueden ejecutar los mismos métodos y funciones de las `lista` que no generen modificaciones. Recordar que las tuplas son contenedores no mutables."
      ],
      "metadata": {
        "id": "G3lRwh52t2Oj"
      }
    },
    {
      "cell_type": "markdown",
      "source": [
        "## **Diccionario**\n",
        "\n",
        "Los diccionarios son contenedores de datos que permiten almacenar su contenido en forma de llave `key` y valor `value`.\n",
        "\n",
        "Son creados con `{}` y son separados por una coma cada para de `key:value`."
      ],
      "metadata": {
        "id": "9bUS0jRHCO_Y"
      }
    },
    {
      "cell_type": "code",
      "source": [
        "#Ejemplo de diccionario\n",
        "Diccionario_pokemon={'name':'pikachu','type1':'electric','Total':320}\n",
        "print(Diccionario_pokemon)"
      ],
      "metadata": {
        "id": "JAq0Yyn8JIMc"
      },
      "execution_count": null,
      "outputs": []
    },
    {
      "cell_type": "markdown",
      "source": [
        "Para acceder a los elementos de un `diccionario` se debe utilizar []."
      ],
      "metadata": {
        "id": "c1Uy26txKKPg"
      }
    },
    {
      "cell_type": "code",
      "source": [
        "#Ejemplo para acceder a los valores del diccionario\n",
        "print(Diccionario_pokemon['name'])\n",
        "\n",
        "#Otra forma es con la función .get()\n",
        "print(Diccionario_pokemon.get('type1'))"
      ],
      "metadata": {
        "id": "oH5MyOU7Jynf"
      },
      "execution_count": null,
      "outputs": []
    },
    {
      "cell_type": "markdown",
      "source": [
        "Los principales métodos utilizados en un diccionario son:\n",
        "- keys : Entrega una lista con todas las keys de un diccionario.\n",
        "- values: Entrega una lista con todos los valores de un diccionario.\n",
        "- pop : Elimina del diccionario y retorna elemento ubicado en cierta key."
      ],
      "metadata": {
        "id": "WQyXbkwvM7t7"
      }
    },
    {
      "cell_type": "code",
      "source": [
        "#Ejercicios de métodos para diccionario:\n",
        "\n",
        "## Considera el siguiente diccionario inicial:\n",
        "Diccionario_pokemon={'name':'pikachu','type1':'electric','total':320}"
      ],
      "metadata": {
        "id": "0KzkyemOKglT"
      },
      "execution_count": null,
      "outputs": []
    },
    {
      "cell_type": "code",
      "source": [
        "### Indica las key del diccionario Diccionario_pokemon\n",
        "Diccionario_pokemon={'name':'pikachu','type1':'electric','total':320}\n",
        "print(Diccionario_pokemon.keys())"
      ],
      "metadata": {
        "id": "Vs5vPST24vXj"
      },
      "execution_count": null,
      "outputs": []
    },
    {
      "cell_type": "code",
      "source": [
        "### Indica los values del diccionario Diccionario_pokemon\n",
        "Diccionario_pokemon={'name':'pikachu','type1':'electric','total':320}\n",
        "print(Diccionario_pokemon.values())"
      ],
      "metadata": {
        "id": "6F2tTDpt4w_U"
      },
      "execution_count": null,
      "outputs": []
    },
    {
      "cell_type": "code",
      "source": [
        "### Elimina el conjunto los datos de 'total' del diccionario Diccionario_pokemon\n",
        "Diccionario_pokemon={'name':'pikachu','type1':'electric','total':320}\n",
        "Diccionario_pokemon.pop('total')\n",
        "print(Diccionario_pokemon)"
      ],
      "metadata": {
        "id": "nGXu5BDF4y_h"
      },
      "execution_count": null,
      "outputs": []
    },
    {
      "cell_type": "markdown",
      "source": [
        "# **Estructura de control**\n",
        "\n",
        "Las estructuras de control permiten programar un conjunto de instrucciones que son ejecutadas unas tras otras, mediante bloques de código que se ejecuten si solo si se dan condiciones particulares."
      ],
      "metadata": {
        "id": "DIpQlvSxUPy0"
      }
    },
    {
      "cell_type": "markdown",
      "source": [
        "## **Operadores**\n",
        "\n",
        "Existen diferentes tipos de operador:\n",
        "\n",
        "- Operador de asignación: nos permiten realizar una operación y almacenar su resultado en la variable inicial. Los más utilizados son `=`,`+=`, `-=`, entre otros.\n",
        "- Operadores aritméticos: nos permiten realziar operaciones aritméticas. Los más utilizados son `+`,`-`,`*`,`/`.\n",
        "- Operadores relacionales: nos permite saber la relación existente entre dos variables. Los más utilizados son `==`, `!=`, `>` o `<`, `>=` o `=<`.\n",
        "- Operadores lógicos: nos permiten operar con valores `booleanos`, solo pueden tomar el valor de `True` o `False`. Los operadores lógicos son `and` (True and True = True), `or` (True or False = True) y `not` (not true = False)."
      ],
      "metadata": {
        "id": "G-h2sJUZUlFc"
      }
    },
    {
      "cell_type": "code",
      "source": [
        "#Ejemplo de operadores\n",
        "\n",
        "##Considere los siguientes datos\n",
        "a=2\n",
        "b=3"
      ],
      "metadata": {
        "id": "Ul0qAHdXNZBO"
      },
      "execution_count": null,
      "outputs": []
    },
    {
      "cell_type": "code",
      "source": [
        "##Ejemplos de operadores de asignación\n",
        "x=a\n",
        "x+=b\n",
        "print('x+=',x)"
      ],
      "metadata": {
        "id": "coSWvAwa4-q_"
      },
      "execution_count": null,
      "outputs": []
    },
    {
      "cell_type": "code",
      "source": [
        "##Ejemplo de operadores aritméticos\n",
        "x=a+b\n",
        "print('a*b=',x)"
      ],
      "metadata": {
        "id": "e95V8Iy_5BcX"
      },
      "execution_count": null,
      "outputs": []
    },
    {
      "cell_type": "code",
      "source": [
        "##Ejemplo de operadores relacionales\n",
        "x= a>b\n",
        "print('a>b=',x)"
      ],
      "metadata": {
        "id": "D07haXKv5DJi"
      },
      "execution_count": null,
      "outputs": []
    },
    {
      "cell_type": "code",
      "source": [
        "##Ejemplo de operadores lógicos\n",
        "print(True and True)"
      ],
      "metadata": {
        "id": "vMsZU_p_5E2f"
      },
      "execution_count": null,
      "outputs": []
    },
    {
      "cell_type": "markdown",
      "source": [
        "## **Estructura condicionales**\n",
        "\n",
        "Los condicionales son:\n",
        "\n",
        "- if: Representa la activación de un bloque de código que se activa si es cierta una condición.\n",
        "- elif: Representa el sino, una vez se escribe el primer if.\n",
        "- else: Representa el resto de los casos. Por eso no lleva ninguna condición.\n",
        "\n",
        "Ejemplo: Requerir al usuario que ingrese un día de la semana e imprimir un mensaje si es lunes, otro mensaje diferente si es viernes, otro mensaje diferente si es sábado o domingo. Si el día ingresado no es ninguno de esos, imprimir otro mensaje.\n"
      ],
      "metadata": {
        "id": "2D65Gj3KCktf"
      }
    },
    {
      "cell_type": "code",
      "source": [
        "# Indica el día de la semana\n",
        "dia= input('ingresa el día de semana:')\n",
        "\n",
        "if (dia == 'lunes'):\n",
        "  print('Pucha, recién es lunes!!')\n",
        "elif (dia=='viernes'):\n",
        "  print('Yuhuuuu!!!, mañana es finde....')\n",
        "elif (dia == 'sabado' or 'domingo'):\n",
        "  print('Finde... Findeeeee....')\n",
        "else:\n",
        "  print('seguimos esperando el fin de semana')"
      ],
      "metadata": {
        "id": "ucs2Ez_uAhTc"
      },
      "execution_count": null,
      "outputs": []
    },
    {
      "cell_type": "markdown",
      "source": [
        "## **Estructuras iterativas**\n",
        "\n",
        "Las estructuras iterativas son:\n",
        "\n",
        "- for: el número de iteraciones se encuentra definida anticipadamente.\n",
        "- while: el número de iteraciones se encuentra definida mientas que una condición se cumpla.\n",
        "\n",
        "Ejemplo con for: elabora un ciclo for donde imprima cada letra de la palabra Python por separado.\n",
        "\n",
        "Ejemplo con while: elabora un ciclo while donde ingrese un entero y reste 1 hasta llegar a 0."
      ],
      "metadata": {
        "id": "-IPyjV7iPS3u"
      }
    },
    {
      "cell_type": "code",
      "source": [
        "# Ejemplo con for:\n",
        "for i in 'Python':\n",
        "  print(i)"
      ],
      "metadata": {
        "id": "DE2MzO4oCjox"
      },
      "execution_count": null,
      "outputs": []
    },
    {
      "cell_type": "code",
      "source": [
        "# Ejemplo con while:\n",
        "x= 4\n",
        "while x>=0:\n",
        "  print(x)\n",
        "  x-=1\n",
        "else:\n",
        "  print('Fin del while')"
      ],
      "metadata": {
        "id": "YqM-ZYY8R54J"
      },
      "execution_count": null,
      "outputs": []
    },
    {
      "cell_type": "markdown",
      "source": [
        "## **Listas por comprensión**\n",
        "\n",
        "Nos permite crear listas avanzadas en una misma línea de código.\n",
        "\n",
        "Ejemplo: Crear una lista con las letras de una palabra."
      ],
      "metadata": {
        "id": "jMPCIWJCTuRk"
      }
    },
    {
      "cell_type": "code",
      "source": [
        "#Utilizando una estructura iterativa for\n",
        "lista=[]\n",
        "for letra in 'Python':\n",
        "    lista.append(letra)\n",
        "print(lista)"
      ],
      "metadata": {
        "id": "68cZ2FJ5S7vW"
      },
      "execution_count": null,
      "outputs": []
    },
    {
      "cell_type": "code",
      "source": [
        "#Utilizando una lista por comprensión\n",
        "lista = [letra for letra in 'Python']\n",
        "print(lista)"
      ],
      "metadata": {
        "id": "WFEpHCbUUJrR"
      },
      "execution_count": null,
      "outputs": []
    },
    {
      "cell_type": "markdown",
      "source": [
        "# **Funciones**\n"
      ],
      "metadata": {
        "id": "DKXnH-E3VJvs"
      }
    },
    {
      "cell_type": "markdown",
      "source": [
        "## **Funciones integradas**\n",
        "\n",
        "Python tiene una serie de funciones y tipos integrados que siempre están disponibles. Algunas de las más utilizadas son:\n",
        "\n",
        "- abs(v) : entrega valor absoluto de un valor.\n",
        "- all(x) : retorna True si todos los valores de un iterable son True.\n",
        "- any(x) : retorna True si algún valor de un iterable es True.\n",
        "- bool(v) : retorna True al menos que el valor ingresado sea vacío, False, None o 0.\n",
        "- float(v) : transforma valor a número de punto flotante (a decimal).\n",
        "- int(v) : transforma valor a número entero.\n",
        "- list(x) : crea un objeto tipo lista.\n",
        "- pow(b,e) : calcula (alternativa a b**e).\n",
        "- print(o) : convierte a string y muestra en pantalla un objeto.\n",
        "- range(i,f,s): crea una secuencia de números enteros desde i hasta f-1 con salto s.\n",
        "- round(v, n) : redondea un valor a n decimales.\n",
        "- str(o) : convierte un objecto a string.\n",
        "- type(o) : retorna tipo de un objeto.\n"
      ],
      "metadata": {
        "id": "ThrHp9_gVNy5"
      }
    },
    {
      "cell_type": "markdown",
      "source": [
        "## **Funciones definidas por los usuarios**\n",
        "\n",
        "Existen dos tipos de funciones:\n",
        "\n",
        "- def: permite definir nuestras propias funciones. Una vez definida podemos reutilizarlo.\n",
        "- lambda: permite definir nuestra propia función. Sin embargo, no podemos reutilizarla de forma posterior.\n",
        "\n",
        "Las funciones lambda son simplemente una versión acortada.\n",
        "\n",
        "Ejemplo: Función para sumar dos números.\n"
      ],
      "metadata": {
        "id": "L109QwyDYI2W"
      }
    },
    {
      "cell_type": "code",
      "source": [
        "#Utilizando def\n",
        "def suma(a,b):\n",
        "  return a+b"
      ],
      "metadata": {
        "id": "XsWlvtETUbNG"
      },
      "execution_count": null,
      "outputs": []
    },
    {
      "cell_type": "code",
      "source": [
        "#Utilizando lambda\n",
        "x= lambda a,b: a+b"
      ],
      "metadata": {
        "id": "0JNaH_Aobc_0"
      },
      "execution_count": null,
      "outputs": []
    },
    {
      "cell_type": "markdown",
      "source": [
        "## **Librerías e instalación**\n",
        "\n",
        "Las librerías de Python son conjuntos de funciones que permiten realizar distintas funciones, ahorrando tiempo y esfuerzo al programador.\n",
        "\n",
        "Un aspecto relevante, es que cada librería tiene un objetivo. Las librerías más utilizadas para el analisis de datos son Numpy, Pandas y Matplotlib.\n",
        "\n",
        "Colab ya viene con librerias instaladas solo debemos utilizar el siguiente código importarlas y tener acceso."
      ],
      "metadata": {
        "id": "PI5ey1Y8cY9i"
      }
    },
    {
      "cell_type": "code",
      "source": [
        "import pandas as pd\n",
        "import numpy as np\n",
        "import matplotlib.pyplot as plt"
      ],
      "metadata": {
        "id": "NZWSF3EwbkQ3"
      },
      "execution_count": null,
      "outputs": []
    },
    {
      "cell_type": "markdown",
      "source": [
        "Para saber que librerías tenemos instaladas podemos utilizar el comando !pip freeze."
      ],
      "metadata": {
        "id": "O1hczXIWgSS5"
      }
    },
    {
      "cell_type": "code",
      "source": [
        "!pip freeze"
      ],
      "metadata": {
        "id": "XFgrLbDWfjqy"
      },
      "execution_count": null,
      "outputs": []
    },
    {
      "cell_type": "markdown",
      "source": [
        "Para instalar un nueva librería utilizamos el comando !pip install <librería>"
      ],
      "metadata": {
        "id": "H5cNpbn1jDn_"
      }
    },
    {
      "cell_type": "code",
      "source": [
        "!pip install dash"
      ],
      "metadata": {
        "id": "Syp-Veg_iKCI"
      },
      "execution_count": null,
      "outputs": []
    },
    {
      "cell_type": "markdown",
      "source": [
        "# **Numpy**\n",
        "\n",
        "`NumPy` (*Numerical Python*) es uno de las `librerías` más importantes y, probablemente, el más utilizado en el campo del cálculo numérico en el ecosistema de `Python`. `NumPy` extiende esta funcionalidad en el campo del cálculo numérico de la siguiente manera:\n",
        "\n",
        "- Ofrece el objeto `ndarray`, similar a una lista de `Python` pero optimizada para el cálculo numérico. Nos referiremos a este objeto como `array` de `NumPy`, o simplemente `array`.\n",
        "- Implementa funciones matemáticas que pueden trabajar directamente sobre `arrays` sin tener que implementar bucles.\n",
        "- Proporciona funciones para leer/escribir datos a archivos de manera optimizada.\n",
        "- Permite aplicaciones de álgebra lineal, generación de números aleatorios y transformadas de Fourier.\n",
        "\n",
        "El núcleo de `Numpy` está implementado en C, ofreciendo *bindings* en `Python` para interactuar con él. Esto se traduce en que `NumPy` es más rápido que el equivalente en puro `Python`. Muchas otras librerías para el análisis de datos están construidas sobre `NumPy`, utilizando los `ndarrays` como la estructura de datos básica debido a su eficiencia. Para ilustrar esta propiedad vamos a calcular el tiempo necesario para llevar a cabo la misma operación en puro `Python` en comparación con `arrays` de `NumPy`."
      ],
      "metadata": {
        "id": "b_yhlXLAiyBS"
      }
    },
    {
      "cell_type": "markdown",
      "source": [
        "## **El objeto ndarray**\n",
        "\n",
        "La librería `NumPy` está basado en el objeto `ndarray`. Puedes ver este objeto como una lista de `Python` con súperpoderes. El objeto `ndarray` es multidimensional, lo que implica que nos permite representar tanto valores escalares como vectores, matrices y matrices multidimensionales (lo que llamamos tensores).\n",
        "\n",
        "Para poder trabajar con `NumPy`, primero tenemos que importarlo. Es común importarlo con el nombre np."
      ],
      "metadata": {
        "id": "G7qrHivsomlR"
      }
    },
    {
      "cell_type": "code",
      "source": [
        "import numpy as np"
      ],
      "metadata": {
        "id": "7qVxbYLuoq8y"
      },
      "execution_count": null,
      "outputs": []
    },
    {
      "cell_type": "markdown",
      "source": [
        "Tenemos varias maneras de crear un `array`. Una de ellas es utilizar funciones implementadas en `NumPy` para la creación de `arrays`, indicando el número de elementos en cada dimensión."
      ],
      "metadata": {
        "id": "TZpZuytso2UE"
      }
    },
    {
      "cell_type": "code",
      "source": [
        "#Crear un vector de ceros\n",
        "print(np.zeros(6))"
      ],
      "metadata": {
        "id": "9rfThu_9oyml"
      },
      "execution_count": null,
      "outputs": []
    },
    {
      "cell_type": "code",
      "source": [
        "#Crear una matriz de ceros\n",
        "print(np.zeros((3, 5)))"
      ],
      "metadata": {
        "id": "RxzQaWYKo6Ah"
      },
      "execution_count": null,
      "outputs": []
    },
    {
      "cell_type": "markdown",
      "source": [
        "De la misma manera podemos crear `arrays` de `1`, con un valor determinado o sin inicializar con las funciones `np.one()`, `np.full()` o `np.empty()` respectivamente. Estas son algunas de las propiedades de un array."
      ],
      "metadata": {
        "id": "rlkxZBUbpDmz"
      }
    },
    {
      "cell_type": "code",
      "source": [
        "a= np.ones((3, 5))\n",
        "a"
      ],
      "metadata": {
        "id": "4amw4slLo8Uy"
      },
      "execution_count": null,
      "outputs": []
    },
    {
      "cell_type": "code",
      "source": [
        "#Obtener el número de elementos en cada dimension\n",
        "a.shape"
      ],
      "metadata": {
        "id": "JusXCODcpHZr"
      },
      "execution_count": null,
      "outputs": []
    },
    {
      "cell_type": "code",
      "source": [
        "#Obtener la cantidad de elementos totales en el array\n",
        "a.size"
      ],
      "metadata": {
        "id": "qnZ_fOGRpOQL"
      },
      "execution_count": null,
      "outputs": []
    },
    {
      "cell_type": "markdown",
      "source": [
        "Otra manera muy común de inicializar `arrays` de `Numpy` es mediante `listas` de `Python`. Para ello usamos la función `np.array()`."
      ],
      "metadata": {
        "id": "Bm_3rmnJpVZO"
      }
    },
    {
      "cell_type": "code",
      "source": [
        "a=np.array([[0, 1, 2],[3, 4, 5]])\n",
        "print(a)\n",
        "print(a.shape)\n",
        "print(a.size)"
      ],
      "metadata": {
        "id": "YJScVac8pVsd"
      },
      "execution_count": null,
      "outputs": []
    },
    {
      "cell_type": "markdown",
      "source": [
        "Por último, también podemos crear `arrays` mediante funciones secuenciales o con valores aleatorios de la siguiente manera."
      ],
      "metadata": {
        "id": "UDUzb4-bpZ2t"
      }
    },
    {
      "cell_type": "code",
      "source": [
        "# vector de `int` en rango\n",
        "np.arange(0, 7) #entrega los valores hasta (t-1)"
      ],
      "metadata": {
        "id": "x9rmMEJKpXEJ"
      },
      "execution_count": null,
      "outputs": []
    },
    {
      "cell_type": "code",
      "source": [
        "# vector de `float` en rango\n",
        "np.linspace(0, 1, 5)"
      ],
      "metadata": {
        "id": "KC1WNK_opce2"
      },
      "execution_count": null,
      "outputs": []
    },
    {
      "cell_type": "markdown",
      "source": [
        "## **Modificación de estructura del array**\n",
        "\n",
        "Es muy común cambiar la forma de un `array` para acomodarlo a ciertas operaciones."
      ],
      "metadata": {
        "id": "xYEo4twSrPjR"
      }
    },
    {
      "cell_type": "code",
      "source": [
        "# array\n",
        "a = np.arange(10)\n",
        "a"
      ],
      "metadata": {
        "id": "4LlNW6nXpfQ0"
      },
      "execution_count": null,
      "outputs": []
    },
    {
      "cell_type": "code",
      "source": [
        "# convertir en una matriz\n",
        "a2 = a.reshape(2,5)\n",
        "a2"
      ],
      "metadata": {
        "id": "F_MNcFcTrUt2"
      },
      "execution_count": null,
      "outputs": []
    },
    {
      "cell_type": "markdown",
      "source": [
        "Para poder cambiar la forma del `array` el número de elementos tiene que encajar en el número de nuevas dimensiones."
      ],
      "metadata": {
        "id": "2lY7J31hrcrd"
      }
    },
    {
      "cell_type": "code",
      "source": [
        "a.reshape(2,4)"
      ],
      "metadata": {
        "id": "OXAPlrIArXqF"
      },
      "execution_count": null,
      "outputs": []
    },
    {
      "cell_type": "markdown",
      "source": [
        "## **Operaciones aritméticas**\n",
        "Una de las aplicaciones en las que los `arrays` de `NumPy` brillan es en la facilidad de usar operaciones artiméticas de manera optimizada y sin tener que implementar bucles como hacemos en `Python`. Esta propiedad se conoce como vectorización, algo de lo que hablaremos en más detalle en un futuro post. Podemos usar los operadores que ya conocemos de `Python` directamente con nuestros arrays."
      ],
      "metadata": {
        "id": "Wir0tQKSrj7y"
      }
    },
    {
      "cell_type": "code",
      "source": [
        "a = np.array([14, 23, 32, 41])\n",
        "b = np.array([5,  4,  3,  2])\n",
        "\n",
        "a + b"
      ],
      "metadata": {
        "id": "doa8jUmuraE8"
      },
      "execution_count": null,
      "outputs": []
    },
    {
      "cell_type": "code",
      "source": [
        "a - b"
      ],
      "metadata": {
        "id": "wQbB5qWErlsv"
      },
      "execution_count": null,
      "outputs": []
    },
    {
      "cell_type": "code",
      "source": [
        "a*b"
      ],
      "metadata": {
        "id": "0D5VEKKXrnHn"
      },
      "execution_count": null,
      "outputs": []
    },
    {
      "cell_type": "code",
      "source": [
        "a / b"
      ],
      "metadata": {
        "id": "NDdUONpiroBh"
      },
      "execution_count": null,
      "outputs": []
    },
    {
      "cell_type": "markdown",
      "source": [
        "Podremos aplicar estas operaciones siempre que las dimensiones de los `arrays` coincidan."
      ],
      "metadata": {
        "id": "OMpUcwXerr_D"
      }
    },
    {
      "cell_type": "markdown",
      "source": [
        "## **Operaciones estadísticas**\n",
        "\n",
        "Podemos usar `NumPy` para analizar datos usando estadística. Aprenderemos diferentes métodos para calcular propiedades estadísticas de los datos, como encontrar la media y la desviación standard. Esto servirá para entender cómo podemos usar la estadística para llegar a conclusiones acerca de los datos.\n",
        "\n",
        "La estadística nos ayuda a entender mejor los datos. Usando estadística podremos inferir, con cierta certeza, que probabilidades de ocurrencia existen sobre algo y nos ayuda a leer las propiedades acerca de los datos."
      ],
      "metadata": {
        "id": "RZ6Ifzc_znBi"
      }
    },
    {
      "cell_type": "code",
      "source": [
        "#Calcular el promedio\n",
        "arr= np.array([4,9.4,3,2,5,6,7,6.87])\n",
        "np.mean(arr)"
      ],
      "metadata": {
        "id": "aLyVUsylro96"
      },
      "execution_count": null,
      "outputs": []
    },
    {
      "cell_type": "code",
      "source": [
        "#Redondear a un número especifico de decimales\n",
        "np.round(np.mean(arr),2)"
      ],
      "metadata": {
        "id": "3Dmp1N5qzqic"
      },
      "execution_count": null,
      "outputs": []
    },
    {
      "cell_type": "code",
      "source": [
        "#Calcular la mediana\n",
        "arr= np.array([4,9.4,3,2,5,6])\n",
        "np.median(arr)"
      ],
      "metadata": {
        "id": "5XzcqXdLzrt5"
      },
      "execution_count": null,
      "outputs": []
    },
    {
      "cell_type": "code",
      "source": [
        "#Calcular la desviación estandar\n",
        "arr= np.array([1,2,3,4,4,4,6,6,7,8,8])\n",
        "np.std(arr)"
      ],
      "metadata": {
        "id": "Iork9218zta3"
      },
      "execution_count": null,
      "outputs": []
    },
    {
      "cell_type": "markdown",
      "source": [
        "Puedes obtener más información sobre operaciones estadísticas con NumPy en el siguiente link [Link](https://numpy.org/doc/stable/reference/routines.statistics.html)"
      ],
      "metadata": {
        "id": "c07BHjzMz1Zc"
      }
    },
    {
      "cell_type": "markdown",
      "source": [
        "# **Pandas**\n",
        "\n",
        "`Pandas` es una librería de `Python` especializada en el manejo y análisis de estructuras de datos. Las principales características de esta librería son:\n",
        "\n",
        "- Define una estructuras de datos basadas en los arrays de la librería `NumPy` pero con nuevas funcionalidades.\n",
        "- Permite leer y escribir fácilmente ficheros en formato CSV, Excel y bases de datos SQL.\n",
        "- Permite acceder a los datos mediante índices o nombres para filas y columnas.\n",
        "- Ofrece métodos para reordenar, dividir y combinar conjuntos de datos.\n",
        "- Permite trabajar con series temporales.\n",
        "- Realiza todas estas operaciones de manera muy eficiente.\n",
        "\n",
        "Las dos estructuras de datos de `Pandas` son las `Series` y los `Dataframes`, donde una `Serie` posee una estructura similar al `diccionario` de `Python` (par clave-valor) y un `Dataframe` es una matriz (bidimensional) con sus correspondientes filas y columnas.\n",
        "\n",
        "En el siguiente [Link](https://pandas.pydata.org/) puedes encontrar la documentación oficial de la librería, para apoyarte en caso de dudas o consultas, cuenta con ejemplos para apoyar el aprendizaje.\n",
        "\n",
        "Para poder trabajar con `Pandas`, primero tenemos que importarlo. Es comun importarlo con `pd`."
      ],
      "metadata": {
        "id": "_b_PGsD40WEo"
      }
    },
    {
      "cell_type": "code",
      "source": [
        "import pandas as pd"
      ],
      "metadata": {
        "id": "YvqButXlzxdg"
      },
      "execution_count": null,
      "outputs": []
    },
    {
      "cell_type": "markdown",
      "source": [
        "## **Series**\n",
        "\n",
        "Es una estructura de datos unidimensional con un conjunto de datos asociados a un índice. Se puede crear directamente desde un array o una lista. Cada dato de una serie va asociado a un índice (index)."
      ],
      "metadata": {
        "id": "MvECcmDNbNZ9"
      }
    },
    {
      "cell_type": "code",
      "source": [
        "#Ejemplo de crear Series con del total de habilidad de cada pokemon\n",
        "pd.Series([318,309,314], index=['bulbasaur','charmander','squirtle'])"
      ],
      "metadata": {
        "id": "ahLsghc90qCk"
      },
      "execution_count": null,
      "outputs": []
    },
    {
      "cell_type": "code",
      "source": [
        "#Promedio de habilidad de cada pokemon\n",
        "pd.Series([318,309,314], index=['bulbasaur','charmander','squirtle']).mean()"
      ],
      "metadata": {
        "id": "wAWztzPUe9-_"
      },
      "execution_count": null,
      "outputs": []
    },
    {
      "cell_type": "markdown",
      "source": [
        "Se puede obtener otra información de índole estadístico. Puedes encontrar más información en la documentación apretando el siguiente [Link](https://pandas.pydata.org/pandas-docs/stable/reference/api/pandas.Series.mean.html#pandas.Series.mean).\n",
        "\n",
        "\n"
      ],
      "metadata": {
        "id": "rYHlvi0tfCJR"
      }
    },
    {
      "cell_type": "markdown",
      "source": [
        "## DataFrame\n",
        "\n",
        "Es una estructura de datos tabulares bidimensional, potencialmente heterogénea y de tamaño variable, con ejes etiquetados (filas y columnas). Un marco de datos es una estructura de datos bidimensional, es decir, los datos están alineados en forma de tabla en filas y columnas. Pandas DataFrame consta de tres componentes principales: datos , filas y columnas ."
      ],
      "metadata": {
        "id": "3EJKZe-Uf6On"
      }
    },
    {
      "cell_type": "code",
      "source": [
        "dic_pokemon={\n",
        "  'Nombre':['bulbasaur','charmander','squirtle'],\n",
        "  'Type1':['grass','fire','water'],\n",
        "  'Total':[318,309,314]\n",
        "}\n",
        "\n",
        "pd.DataFrame(dic_pokemon)"
      ],
      "metadata": {
        "id": "jQd3lkDVgUEL"
      },
      "execution_count": null,
      "outputs": []
    },
    {
      "cell_type": "markdown",
      "source": [
        "## Cargar un DataFrame\n",
        "\n",
        "Pandas, permite la importación de datos en varios formatos usando sus funciones, por ejemplo, archivos xlsx, csv, htlm, stata, etc.\n",
        "\n"
      ],
      "metadata": {
        "id": "SQ2N7jLd4gOO"
      }
    },
    {
      "cell_type": "code",
      "source": [
        "#Cargaremos la base de datos de Pokemon desde github\n",
        "url = \"https://raw.githubusercontent.com/SebaMadariaga/analisis-datos-python/main/Pokemon.csv\"\n",
        "\n",
        "df= pd.read_csv(url)"
      ],
      "metadata": {
        "id": "BDfdNDCshOqW"
      },
      "execution_count": null,
      "outputs": []
    },
    {
      "cell_type": "markdown",
      "source": [
        "Para poder observar una primera visualización del `DataFrame` usando las funciones `.head()` y `.tail()`, de forma predefinida viene con `n=5`."
      ],
      "metadata": {
        "id": "X96XGYUkGiL3"
      }
    },
    {
      "cell_type": "code",
      "source": [
        "df.head()"
      ],
      "metadata": {
        "id": "T2TRZqm4EDJM"
      },
      "execution_count": null,
      "outputs": []
    },
    {
      "cell_type": "code",
      "source": [
        "df.tail()"
      ],
      "metadata": {
        "id": "KWZy4cyLGmaM"
      },
      "execution_count": null,
      "outputs": []
    },
    {
      "cell_type": "markdown",
      "source": [
        "## Información general de un DataFrame\n",
        "\n",
        "Podemos encontrar diferentes tipos de datos que componen el DataFrame, como por ejemplo:\n",
        "\n",
        "- Boolean, True ó False.\n",
        "- Int, 1,2,3,...\n",
        "- float, 1.3, 2.345, 3,1415,...\n",
        "- Complex, i (muy poco probable)\n",
        "- Object, son string, pero tambien pueden ser tuplas, listas y diccionarios\n",
        "- Datetime, tiempo con precisión de nanosegundo (fechas)\n",
        "- Categorical: Categorias.\n",
        "\n",
        "Para saber un resumen de los tipo de datos que corresponde a cada columnas del DataFrame, podemos usar la función .info()"
      ],
      "metadata": {
        "id": "gEzO_voMHBfC"
      }
    },
    {
      "cell_type": "code",
      "source": [
        "df.info()"
      ],
      "metadata": {
        "id": "RV3Ch6DEGs0Y"
      },
      "execution_count": null,
      "outputs": []
    },
    {
      "cell_type": "markdown",
      "source": [
        "Podemos obtener estadística descriptiva básica, de las columnas del DataFrame con la función .describe()"
      ],
      "metadata": {
        "id": "qMikAW4kLNxq"
      }
    },
    {
      "cell_type": "code",
      "source": [
        "df.describe()"
      ],
      "metadata": {
        "id": "z4BMF7YsLEhQ"
      },
      "execution_count": null,
      "outputs": []
    },
    {
      "cell_type": "markdown",
      "source": [
        "Tambien podemos ejecutarlo directamente en solo una columna del DataFrame."
      ],
      "metadata": {
        "id": "P-mbWDmoLfE6"
      }
    },
    {
      "cell_type": "code",
      "source": [
        "df['HP'].describe()"
      ],
      "metadata": {
        "id": "oOStWTh-Lk5x"
      },
      "execution_count": null,
      "outputs": []
    },
    {
      "cell_type": "markdown",
      "source": [
        "## Selección de columnas de un DataFrame\n",
        "\n",
        "El acceso a los datos de un `Dataframe` se puede realizar a través de su posición o el nombre de las filas y columnas.\n",
        "\n",
        "- Acceso por posición: para acceder a los datos por posición se utiliza la función .iloc()\n",
        "- Acceso por nombre de fila y columna: para acceder a los datos por nombre de la fila y columna se utiliza la función .loc()\n"
      ],
      "metadata": {
        "id": "nb6pBeYML817"
      }
    },
    {
      "cell_type": "code",
      "source": [
        "#Ejemplo de acceso por posición, obtener los datos de la primera fila.\n",
        "df.iloc[0]"
      ],
      "metadata": {
        "id": "pX3fRJnfInFF"
      },
      "execution_count": null,
      "outputs": []
    },
    {
      "cell_type": "code",
      "source": [
        "#Ejemplo de acceso por posición, obtener desde la fila 8 a la 11.\n",
        "df.iloc[8:12]"
      ],
      "metadata": {
        "id": "EpSKwPk3MqjB"
      },
      "execution_count": null,
      "outputs": []
    },
    {
      "cell_type": "code",
      "source": [
        "#Ejemplo de acceso por posición, obtener la fila 11,120 y140\n",
        "df.iloc[[11, 120, 140]]"
      ],
      "metadata": {
        "id": "7T75nBjhM5gD"
      },
      "execution_count": null,
      "outputs": []
    },
    {
      "cell_type": "code",
      "source": [
        "#Ejemplo de acceso por fila y columna, Obtener la primera fila de la columna \"Name\".\n",
        "df.loc[0, 'Name']"
      ],
      "metadata": {
        "id": "UKKfB7EsNAro"
      },
      "execution_count": null,
      "outputs": []
    },
    {
      "cell_type": "code",
      "source": [
        "#Ejemplo de acceso por fila y columna, Obtener todas las filas de las columnas \"Name\",\"Attack\" y \"Defense\".\n",
        "df.loc[:, ['Name', 'Attack', 'Defense']]"
      ],
      "metadata": {
        "id": "hTvP3_d2NPE7"
      },
      "execution_count": null,
      "outputs": []
    },
    {
      "cell_type": "markdown",
      "source": [
        "## Filtros en columnas de un DataFrame\n",
        "\n",
        "Son seleccionados aquellos valores que cumplan una condición."
      ],
      "metadata": {
        "id": "jx33G8A0Or8B"
      }
    },
    {
      "cell_type": "code",
      "source": [
        "#Ejemplo, obtener los Pokemones legendarios.\n",
        "df[df['Legendary']==True]"
      ],
      "metadata": {
        "id": "bgYxR-pKNWxs"
      },
      "execution_count": null,
      "outputs": []
    },
    {
      "cell_type": "markdown",
      "source": [
        "Se puede obtener otra información de índole estadístico. Puedes encontrar más información en la documentación apretando el siguiente [Link](https://pandas.pydata.org/pandas-docs/stable/reference/frame.html)."
      ],
      "metadata": {
        "id": "g_X9MX6nRF06"
      }
    },
    {
      "cell_type": "markdown",
      "source": [
        "# Visualización de datos"
      ],
      "metadata": {
        "id": "kYqFITnxTLAw"
      }
    },
    {
      "cell_type": "markdown",
      "source": [
        "## Desde objetos iterables\n",
        "\n",
        "`Matplotlib` es una librería para la generación de gráficos en dos dimensiones, a partir de datos contenidos en listas, arrays o Series en el lenguaje de programación `Python`.\n",
        "\n",
        "Lo primero que vamos a realizar es importar la librería `matplotlib` con su modulo `pyplot` que es el que utilizaremos para desarrollar los gráficos. A la librería le asignamos el acrónimo `plt`."
      ],
      "metadata": {
        "id": "UkOZ3OixTdCr"
      }
    },
    {
      "cell_type": "code",
      "source": [
        "import matplotlib.pyplot as plt"
      ],
      "metadata": {
        "id": "woDU407AUH-S"
      },
      "execution_count": null,
      "outputs": []
    },
    {
      "cell_type": "markdown",
      "source": [
        "Utilizaremos la siguiente información de la proyección de la población en Chile entre los años 2024 y 2030. Los datos fueron obtenidos en el siguiente [Link](https://www.ine.gob.cl/estadisticas/sociales/demografia-y-vitales/proyecciones-de-poblacion)"
      ],
      "metadata": {
        "id": "8eD2Z7QLT9ny"
      }
    },
    {
      "cell_type": "code",
      "source": [
        "x=[2024,2025,2026,2027,2028,2029,2030,2031,2032,2033]\n",
        "y= [20086,20207,20323,20434,20540,20640,20735,20826,20912,20993]"
      ],
      "metadata": {
        "id": "toycH50yQVOq"
      },
      "execution_count": null,
      "outputs": []
    },
    {
      "cell_type": "markdown",
      "source": [
        "Para construir gráficos de línea utilizamos la función plt.plot(), donde las entradas son la posición de los datos para cada eje del gráfico.\n",
        "\n",
        "Tambien utilizamos el comando plt.show() para que nos muestre la visualización."
      ],
      "metadata": {
        "id": "32BfUyhkUCzH"
      }
    },
    {
      "cell_type": "code",
      "source": [
        "plt.plot(x,y)\n",
        "\n",
        "plt.show()"
      ],
      "metadata": {
        "id": "o3gO-LM4T__h"
      },
      "execution_count": null,
      "outputs": []
    },
    {
      "cell_type": "markdown",
      "source": [
        "Para acceder a la documentación de la librería `matplotlib.pyplot` pulsa el siguente [Link](https://matplotlib.org/3.1.1/tutorials/introductory/pyplot.html#sphx-glr-tutorials-introductory-pyplot-py). Los gráficos los podemos modificar y estructurar según nuestos gustos y preferencias, por ejemplo:"
      ],
      "metadata": {
        "id": "UY7pjDZdUiNA"
      }
    },
    {
      "cell_type": "code",
      "source": [
        "plt.figure(figsize=(15,5))\n",
        "\n",
        "plt.plot(x,y,marker='s', linestyle='--',color='g')\n",
        "plt.title('Estimación de la población en Chile, 2024-2033')\n",
        "plt.xlabel('Año')\n",
        "plt.ylabel('Población en miles de personas')\n",
        "\n",
        "plt.xticks(x)\n",
        "plt.yticks(y)\n",
        "\n",
        "plt.show()"
      ],
      "metadata": {
        "id": "C0-WwE4zUBsz"
      },
      "execution_count": null,
      "outputs": []
    },
    {
      "cell_type": "markdown",
      "source": [
        "## Desde un DataFrame"
      ],
      "metadata": {
        "id": "rHLg0hrNU-h2"
      }
    },
    {
      "cell_type": "markdown",
      "source": [
        "Vamos a filtrar el DataFrame para obtener un DataFrame con la cantidad de pokemones por tipo predominante (Type 1).\n",
        "\n",
        "Luego, vamos a gráficar directamente con la librería Pandas."
      ],
      "metadata": {
        "id": "KVNOICJQXenL"
      }
    },
    {
      "cell_type": "code",
      "source": [
        "Type1= df['Type 1'].value_counts().to_frame().reset_index()\n",
        "Type1.columns=['Type 1','Cantidad']\n",
        "Type1"
      ],
      "metadata": {
        "id": "DVtaLAEgXw7s"
      },
      "execution_count": null,
      "outputs": []
    },
    {
      "cell_type": "code",
      "source": [
        "Type1.plot.bar('Type 1','Cantidad')"
      ],
      "metadata": {
        "id": "k0o9mlA5UQgB"
      },
      "execution_count": null,
      "outputs": []
    },
    {
      "cell_type": "markdown",
      "source": [
        "# Aplicación de analisis de datos con Python\n",
        "\n",
        "El Trabajo aplicado de analisis de datos con Python es una actividad de elaboración propia, donde podrás desarrollar y aplicar conocimientos adquirido durante el curso.\n",
        "\n",
        "El link de la base de dato es [Link](https://raw.githubusercontent.com/SebaMadariaga/analisis-datos-python/main/netflix_data.csv).\n",
        "\n",
        "1. Importar la base de datos de Netflix asignadole el nombre de **df_netflix**.\n",
        "2. ¿Cuál es el top 10 del genero (`genre`) de película (`type=Movie`) con más repeticiones?.\n",
        "3. Genera un gráfico de barras verticales con la cantidad de peliculas `Movies` por genero (`genre`).\n",
        "\n",
        "Un poco más avanzado:\n",
        "\n",
        "4. Elabora una tabulación con la siguiente información:\n",
        "    - Pais (`country`)\n",
        "    - Número de peliculas (`type=Movie)`.\n",
        "    - Número de series (`type=Tv Show)`.\n",
        "    - Total de películas y series.\n",
        "    \n",
        "| **Pais** | **Número de películas** | **Número de series**|**Total de películas y series**|\n",
        "|----------|------------|-----------|-----------|\n",
        "|Chile\t |17|4|21|\n",
        "    \n",
        "Hint: Obtener cada dato por separado y luego unir en una tabla. Los datos nulos con respecto a la columna Pais `Country` dejarlos con el estado `Sin clasificar`."
      ],
      "metadata": {
        "id": "Ky6pkYZEYK2e"
      }
    },
    {
      "cell_type": "code",
      "source": [
        "import pandas as pd\n",
        "import matplotlib.pyplot as plt\n",
        "\n",
        "#1. Cargaremos la base de datos de Pokemon desde github\n",
        "url = \"https://raw.githubusercontent.com/SebaMadariaga/analisis-datos-python/main/netflix_data.csv\"\n",
        "df_netflix= pd.read_csv(url)"
      ],
      "metadata": {
        "id": "f3K8r8fDbiFZ"
      },
      "execution_count": null,
      "outputs": []
    },
    {
      "cell_type": "code",
      "source": [
        "#2. ¿Cuál es el top 5 del genero (genre) de película (type=Movie) con más repeticiones?.\n",
        "df_genre= df_netflix[df_netflix['type']=='Movie']\n",
        "df_genre=df_genre.groupby(by='genre')['show_id'].count().to_frame().reset_index().sort_values('show_id', ascending=False)\n",
        "df_genre.head(10)"
      ],
      "metadata": {
        "id": "FP9pryw7h7Gm"
      },
      "execution_count": null,
      "outputs": []
    },
    {
      "cell_type": "code",
      "source": [
        "#3. Genera un gráfico de barras verticales con la cantidad de peliculas Movies por genero (genre).\n",
        "df_bar= df_genre.set_index('genre')\n",
        "df_bar\n",
        "\n",
        "fig, ax = plt.subplots()\n",
        "\n",
        "df_bar.plot(kind='bar',y='show_id', ax=ax, legend=False, ylabel='')\n",
        "plt.show()"
      ],
      "metadata": {
        "id": "KcCMXjf7l45G"
      },
      "execution_count": null,
      "outputs": []
    },
    {
      "cell_type": "code",
      "source": [
        "#4. Elabora una tabulación\n",
        "pais=df_netflix.country.fillna('Sin clasificar').to_frame()\n",
        "tipo=df_netflix.type.to_frame()\n",
        "\n",
        "\n",
        "df= pais.join(tipo, how='outer')\n",
        "df_movie= df[df['type']=='Movie']\n",
        "df_tv= df[df['type']=='TV Show']\n",
        "\n",
        "df_movie=df_movie.groupby(by='country')['type'].count().to_frame().reset_index()\n",
        "df_tv=df_tv.groupby(by='country')['type'].count().to_frame().reset_index()\n",
        "\n",
        "df_merge=pd.merge(df_movie,df_tv, on=\"country\", how=\"outer\")\n",
        "df_merge.columns=['Pais', 'Número de películas', 'Número de series' ]\n",
        "df_merge=df_merge.fillna(0)\n",
        "df_merge['Total de películas y series']=df_merge['Número de películas']+df_merge['Número de series']\n",
        "df_merge"
      ],
      "metadata": {
        "id": "chkD9yslmQr3"
      },
      "execution_count": null,
      "outputs": []
    }
  ]
}