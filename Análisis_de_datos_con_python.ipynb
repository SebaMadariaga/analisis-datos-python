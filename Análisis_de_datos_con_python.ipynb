{
  "nbformat": 4,
  "nbformat_minor": 0,
  "metadata": {
    "colab": {
      "provenance": [],
      "toc_visible": true
    },
    "kernelspec": {
      "name": "python3",
      "display_name": "Python 3"
    },
    "language_info": {
      "name": "python"
    }
  },
  "cells": [
    {
      "cell_type": "markdown",
      "source": [
        "# **Análisis de datos con Python**\n",
        "Link de colab: https://colab.research.google.com/drive/1TyJxdxDo4klOCU8erjAou0QqaOu2um8r?usp=sharing\n",
        "## **Contenido**\n",
        "\n",
        "### **Primer bloque del taller**\n",
        "\n",
        "#### **Contenedores en Python:**\n",
        "- Listas, tuplas y diccionarios.\n",
        "- Acceso a elementos de los contenedores y subcontenedores.\n",
        "- Métodos y Funciones.\n",
        "\n",
        "#### **Estructura de control:**\n",
        "- Operadores\n",
        "- Estructura condicionales.\n",
        "- Estructuras iterativas.\n",
        "- Listas por comprensión\n",
        "\n",
        "### **Funciones:**\n",
        "- Funciones integradas.\n",
        "- Funciones definidas por usuarios: `def` y `lambda`.\n",
        "- Librerías e instalación.\n",
        "\n",
        "### **Segundo bloque del taller**\n",
        "\n",
        "#### **Librería Numpy:**\n",
        "- Arrays.\n",
        "- Vectorización.\n",
        "- Manipulación básica.\n",
        "\n",
        "#### **Librería Pandas:**\n",
        "- Estructura de DataFrame y Series.\n",
        "- Carga de base de datos.\n",
        "- Transformación básica de datos.\n",
        "\n",
        "#### **Visualización de datos:**\n",
        "- Desde objetos iterables.\n",
        "- Desde Dataframe.\n",
        "\n",
        "### **Referencias:**\n",
        "\n"
      ],
      "metadata": {
        "id": "-nxnb7L7bFKU"
      }
    },
    {
      "cell_type": "markdown",
      "source": [
        "# **Contenedores en Python**\n",
        "Los contenedores son estructuras de datos integradas que permiten organizar, evaluar y manipular los tipos de datos. Revisaremos, las siguiente estructuras `listas`, `tuplas` y `diccionarios`."
      ],
      "metadata": {
        "id": "nZSLlg9Th2b7"
      }
    },
    {
      "cell_type": "markdown",
      "source": [
        "## **Lista**\n",
        "\n",
        "Contiene un conjunto de valores que son guardados de forma secuencial. Es mutable, es decir, se pueden agregar, quitar o modificar elementos de este.\n",
        "\n",
        "Las `lista` son creadas con `[]` separando sus elementos por una coma. Pueden almacenar diferentes tipos de datos."
      ],
      "metadata": {
        "id": "idC-0GITlaAm"
      }
    },
    {
      "cell_type": "code",
      "source": [
        "#Ejemplo de listas\n",
        "Lista_supermercado=['manzana','pera','pan','queso','galletas']\n",
        "print(Lista_supermercado)"
      ],
      "metadata": {
        "id": "SLoO8An6kUws",
        "colab": {
          "base_uri": "https://localhost:8080/"
        },
        "outputId": "d116f9a9-ddf6-4894-dc5c-9cb12cd9b5a0"
      },
      "execution_count": 2,
      "outputs": [
        {
          "output_type": "stream",
          "name": "stdout",
          "text": [
            "['manzana', 'pera', 'pan', 'queso', 'galletas']\n"
          ]
        }
      ]
    },
    {
      "cell_type": "markdown",
      "source": [
        "Para `acceder a los elementos de una lista` se debe utilizar `[]`. Es importante considerar que en python los índices comienzan desde `0`."
      ],
      "metadata": {
        "id": "_XN47d6lmz6K"
      }
    },
    {
      "cell_type": "code",
      "source": [
        "#Se debe identificar la posición del dato para acceder en el caso de lista\n",
        "\n",
        "#Lista_supermercado=['manzana','pera','pan','queso','galletas']\n",
        "#                     0         1      2     3       4\n",
        "\n",
        "print(Lista_supermercado[0])\n",
        "print(Lista_supermercado[-1])"
      ],
      "metadata": {
        "colab": {
          "base_uri": "https://localhost:8080/"
        },
        "id": "tmFQQQ1eoMYJ",
        "outputId": "c4e3eca4-a7a0-4b87-a300-5c4d64271373"
      },
      "execution_count": 3,
      "outputs": [
        {
          "output_type": "stream",
          "name": "stdout",
          "text": [
            "manzana\n",
            "galletas\n"
          ]
        }
      ]
    },
    {
      "cell_type": "markdown",
      "source": [
        "Para las `listas`, se ocupa el concepto `slice`, para obtener un subcontenedor del contenedor. Los elementos dependeran de como lo realizamos. Para realizar un slice se debe utilizar `[inicio:fin-1]`."
      ],
      "metadata": {
        "id": "v_V-_uG5h1Mz"
      }
    },
    {
      "cell_type": "code",
      "source": [
        "print(Lista_supermercado[0:1])\n",
        "print(Lista_supermercado[1:4])"
      ],
      "metadata": {
        "colab": {
          "base_uri": "https://localhost:8080/"
        },
        "id": "mqKRtrjbf-Jf",
        "outputId": "49e3fa1f-966d-4468-d07f-b3ed253b225b"
      },
      "execution_count": 8,
      "outputs": [
        {
          "output_type": "stream",
          "name": "stdout",
          "text": [
            "['manzana']\n",
            "['pera', 'pan', 'queso']\n"
          ]
        }
      ]
    },
    {
      "cell_type": "markdown",
      "source": [
        "Las principales métodos para `listas` son:\n",
        "\n",
        "- append : Agregar elemento al final.\n",
        "- pop : Retorna y elimina el objecto ubicado en el índice indicado.\n",
        "- remove : Se usa cuando se conoce el nombre del elemento pero no su posición.\n",
        "- reverse: Cambia dirección en que se encuetran ubicacos los elementos de una lista.\n",
        "- sort : Por defecto, ordena elementos de menor a mayor.\n",
        "- index: Busca un elemento dentro de una lista y entrega la posición."
      ],
      "metadata": {
        "id": "vYrEcPjeiqAT"
      }
    },
    {
      "cell_type": "code",
      "source": [
        "#Ejercicios de métodos para listas:\n",
        "\n",
        "##Considera la siguientes listas inicial:\n",
        "name_pokemon=['bulbasaur','charmander','squirtle']\n",
        "total_pokemon=[318,309,314]\n",
        "\n",
        "##Agregar el pokemon 'pikachu' de la lista name_pokemon\n",
        "name_pokemon=['bulbasaur','charmander','squirtle']\n",
        "name_pokemon.append('pikachu')\n",
        "print(name_pokemon)\n",
        "\n",
        "##Elimina a 'charmander' utilizando su posición de la lista name_pokemon\n",
        "name_pokemon=['bulbasaur','charmander','squirtle']\n",
        "name_pokemon.pop(1)\n",
        "print(name_pokemon)\n",
        "\n",
        "##Elimina a 'bulbasaur' utilizando su nombre de la lista name_pokemon\n",
        "name_pokemon=['bulbasaur','charmander','squirtle']\n",
        "name_pokemon.remove('bulbasaur')\n",
        "print(name_pokemon)\n",
        "\n",
        "##Cambia la posición de los elementos de la lista name_pokemon\n",
        "name_pokemon=['bulbasaur','charmander','squirtle']\n",
        "name_pokemon.reverse()\n",
        "print(name_pokemon)\n",
        "\n",
        "##Ordena los elementos de mayor a menor de la lista total_pokemon\n",
        "total_pokemon=[318,309,314]\n",
        "total_pokemon.sort()\n",
        "print(total_pokemon)\n",
        "\n",
        "##Busca la posición del dato 314 de la lista total_pokemon\n",
        "total_pokemon=[318,309,314]\n",
        "print(total_pokemon.index(314))"
      ],
      "metadata": {
        "colab": {
          "base_uri": "https://localhost:8080/"
        },
        "id": "3F1bKF5EkS4i",
        "outputId": "7d1404a3-add9-428d-ba5d-47618133c91d"
      },
      "execution_count": 9,
      "outputs": [
        {
          "output_type": "stream",
          "name": "stdout",
          "text": [
            "['bulbasaur', 'charmander', 'squirtle', 'pikachu']\n",
            "['bulbasaur', 'squirtle']\n",
            "['charmander', 'squirtle']\n",
            "['squirtle', 'charmander', 'bulbasaur']\n",
            "[309, 314, 318]\n",
            "2\n"
          ]
        }
      ]
    },
    {
      "cell_type": "markdown",
      "source": [
        "Funciones importantes para `listas`.\n",
        "\n",
        "- len : Indica tamaño de lista.\n",
        "- min : Mínimo valor dentro de lista.\n",
        "- max : Máximo valor dentro de lista.\n",
        "- sum : Suma elementos dentro de lista."
      ],
      "metadata": {
        "id": "6-VpMRmgrDJr"
      }
    },
    {
      "cell_type": "code",
      "source": [
        "#Ejercicios de métodos para listas:\n",
        "\n",
        "##Considera la siguientes listas inicial:\n",
        "\n",
        "name_pokemon=['bulbasaur','charmander','squirtle']\n",
        "total_pokemon=[318,309,314]\n",
        "\n",
        "##Indica el tamaño de la lista name_pokemon\n",
        "name_pokemon=['bulbasaur','charmander','squirtle']\n",
        "print(len(name_pokemon))\n",
        "\n",
        "##Indica el mínimo valor de la lista total_pokemon\n",
        "total_pokemon=[318,309,314]\n",
        "print(min(total_pokemon))\n",
        "\n",
        "##Indica el máximo valor de la lista total_pokemon\n",
        "total_pokemon=[318,309,314]\n",
        "print(max(total_pokemon))\n",
        "\n",
        "##Suma los valores de la lista total_pokemon\n",
        "total_pokemon=[318,309,314]\n",
        "print(sum(total_pokemon))"
      ],
      "metadata": {
        "colab": {
          "base_uri": "https://localhost:8080/"
        },
        "id": "tqcOWzHPmJDv",
        "outputId": "5a828056-159a-4d38-b847-0c9b03b80f16"
      },
      "execution_count": 12,
      "outputs": [
        {
          "output_type": "stream",
          "name": "stdout",
          "text": [
            "3\n",
            "309\n",
            "318\n",
            "941\n"
          ]
        }
      ]
    },
    {
      "cell_type": "markdown",
      "source": [
        "## **Tupla**\n",
        "Son contenedores de datos no mutables, pero tienen la ventaja de usar menos memoria y son más rápidas.\n",
        "\n",
        "La `tupla` son creadas con `()` separando sus elementos por una coma. Pueden almacenar diferentes tipos de datos."
      ],
      "metadata": {
        "id": "gCBCZHeAsdH6"
      }
    },
    {
      "cell_type": "code",
      "source": [
        "#Ejemplo de tupla\n",
        "Tupla_nacimiento=(27,'noviembre',1989)\n",
        "print(Tupla_nacimiento)"
      ],
      "metadata": {
        "colab": {
          "base_uri": "https://localhost:8080/"
        },
        "id": "MNCOoYplsriY",
        "outputId": "0e6e2962-f498-4bb3-cb2d-de072426d8ee"
      },
      "execution_count": 14,
      "outputs": [
        {
          "output_type": "stream",
          "name": "stdout",
          "text": [
            "(27, 'noviembre', 1989)\n"
          ]
        }
      ]
    },
    {
      "cell_type": "markdown",
      "source": [
        "Para acceder a los elementos de una `tupla` se debe utilizar `[]`. No olvidar que en python los índices comienzan desde 0."
      ],
      "metadata": {
        "id": "XQ0nfqgDs-9B"
      }
    },
    {
      "cell_type": "code",
      "source": [
        "#Ejemplo para acceder a los valores de la tupla\n",
        "print(Tupla_nacimiento[0])\n",
        "print(Tupla_nacimiento[-1])"
      ],
      "metadata": {
        "colab": {
          "base_uri": "https://localhost:8080/"
        },
        "id": "_6wn7Q5ds5mb",
        "outputId": "2491b6a9-22ba-4648-fe50-1e0ff657982e"
      },
      "execution_count": 15,
      "outputs": [
        {
          "output_type": "stream",
          "name": "stdout",
          "text": [
            "27\n",
            "1989\n"
          ]
        }
      ]
    },
    {
      "cell_type": "markdown",
      "source": [
        "En el caso de la `tupla`, se pueden ejecutar los mismos métodos y funciones de las `lista` que no generen modificaciones. Recordar que las tuplas son contenedores no mutables."
      ],
      "metadata": {
        "id": "G3lRwh52t2Oj"
      }
    },
    {
      "cell_type": "markdown",
      "source": [
        "## **Diccionario**\n",
        "\n",
        "Los diccionarios son contenedores de datos que permiten almacenar su contenido en forma de llave `key` y valor `value`.\n",
        "\n",
        "Son creados con `{}` y son separados por una coma cada para de `key:value`."
      ],
      "metadata": {
        "id": "9bUS0jRHCO_Y"
      }
    },
    {
      "cell_type": "code",
      "source": [
        "#Ejemplo de diccionario\n",
        "Diccionario_pokemon={'name':'pikachu','type1':'electric','Total':320}\n",
        "print(Diccionario_pokemon)"
      ],
      "metadata": {
        "colab": {
          "base_uri": "https://localhost:8080/"
        },
        "id": "JAq0Yyn8JIMc",
        "outputId": "942da983-6ae8-4423-fd52-4d39f7ce57ab"
      },
      "execution_count": 16,
      "outputs": [
        {
          "output_type": "stream",
          "name": "stdout",
          "text": [
            "{'name': 'pikachu', 'type1': 'electric', 'Total': 320}\n"
          ]
        }
      ]
    },
    {
      "cell_type": "markdown",
      "source": [
        "Para acceder a los elementos de un `diccionario` se debe utilizar []."
      ],
      "metadata": {
        "id": "c1Uy26txKKPg"
      }
    },
    {
      "cell_type": "code",
      "source": [
        "#Ejemplo para acceder a los valores del diccionario\n",
        "print(Diccionario_pokemon['name'])\n",
        "\n",
        "#Otra forma es con la función .get()\n",
        "print(Diccionario_pokemon.get('type1'))"
      ],
      "metadata": {
        "colab": {
          "base_uri": "https://localhost:8080/"
        },
        "id": "oH5MyOU7Jynf",
        "outputId": "c99ec1e3-204b-43e4-b53f-119cc703f5ef"
      },
      "execution_count": 17,
      "outputs": [
        {
          "output_type": "stream",
          "name": "stdout",
          "text": [
            "pikachu\n",
            "electric\n"
          ]
        }
      ]
    },
    {
      "cell_type": "markdown",
      "source": [
        "Los principales métodos utilizados en un diccionario son:\n",
        "- keys : Entrega una lista con todas las keys de un diccionario.\n",
        "- values: Entrega una lista con todos los valores de un diccionario.\n",
        "- pop : Elimina del diccionario y retorna elemento ubicado en cierta key."
      ],
      "metadata": {
        "id": "WQyXbkwvM7t7"
      }
    },
    {
      "cell_type": "code",
      "source": [
        "#Ejercicios de métodos para diccionario:\n",
        "\n",
        "## Considera el siguiente diccionario inicial:\n",
        "\n",
        "Diccionario_pokemon={'name':'pikachu','type1':'electric','total':320}\n",
        "\n",
        "### Indica las key del diccionario Diccionario_pokemon\n",
        "Diccionario_pokemon={'name':'pikachu','type1':'electric','total':320}\n",
        "print(Diccionario_pokemon.keys())\n",
        "\n",
        "### Indica los values del diccionario Diccionario_pokemon\n",
        "Diccionario_pokemon={'name':'pikachu','type1':'electric','total':320}\n",
        "print(Diccionario_pokemon.values())\n",
        "\n",
        "### Elimina el conjunto los datos de 'total' del diccionario Diccionario_pokemon\n",
        "Diccionario_pokemon={'name':'pikachu','type1':'electric','total':320}\n",
        "Diccionario_pokemon.pop('total')\n",
        "print(Diccionario_pokemon)\n"
      ],
      "metadata": {
        "colab": {
          "base_uri": "https://localhost:8080/"
        },
        "id": "0KzkyemOKglT",
        "outputId": "881a3428-c1ba-4807-e1da-793174729e3e"
      },
      "execution_count": 18,
      "outputs": [
        {
          "output_type": "stream",
          "name": "stdout",
          "text": [
            "dict_keys(['name', 'type1', 'total'])\n",
            "dict_values(['pikachu', 'electric', 320])\n",
            "{'name': 'pikachu', 'type1': 'electric'}\n"
          ]
        }
      ]
    },
    {
      "cell_type": "markdown",
      "source": [
        "# **Estructura de control**\n",
        "\n",
        "Las estructuras de control permiten programar un conjunto de instrucciones que son ejecutadas unas tras otras, mediante bloques de código que se ejecuten si solo si se dan condiciones particulares."
      ],
      "metadata": {
        "id": "DIpQlvSxUPy0"
      }
    },
    {
      "cell_type": "markdown",
      "source": [
        "## **Operadores**\n",
        "\n",
        "Existen diferentes tipos de operador:\n",
        "\n",
        "- Operador de asignación: nos permiten realizar una operación y almacenar su resultado en la variable inicial. Los más utilizados son `=`,`+=`, `-=`, entre otros.\n",
        "- Operadores aritméticos: nos permiten realziar operaciones aritméticas. Los más utilizados son `+`,`-`,`*`,`/`.\n",
        "- Operadores relacionales: nos permite saber la relación existente entre dos variables. Los más utilizados son `==`, `!=`, `>` o `<`, `>=` o `=<`.\n",
        "- Operadores lógicos: nos permiten operar con valores `booleanos`, solo pueden tomar el valor de `True` o `False`. Los operadores lógicos son `and` (True and True = True), `or` (True or False = True) y `not` (not true = False)."
      ],
      "metadata": {
        "id": "G-h2sJUZUlFc"
      }
    },
    {
      "cell_type": "code",
      "source": [
        "#Considere los siguientes datos\n",
        "a=2\n",
        "b=3\n",
        "\n",
        "##Ejemplos de operadores de asignación\n",
        "x=a\n",
        "x+=b\n",
        "print('x+=',x)\n",
        "\n",
        "##Ejemplo de operadores aritméticos\n",
        "x=a+b\n",
        "print('a*b=',x)\n",
        "\n",
        "##Ejemplo de operadores relacionales\n",
        "x= a>b\n",
        "print('a>b=',x)\n",
        "\n",
        "##Ejemplo de operadores lógicos\n",
        "print(True and True)"
      ],
      "metadata": {
        "colab": {
          "base_uri": "https://localhost:8080/"
        },
        "id": "Ul0qAHdXNZBO",
        "outputId": "129d287d-408c-4551-dd09-fd17c5021e3e"
      },
      "execution_count": 19,
      "outputs": [
        {
          "output_type": "stream",
          "name": "stdout",
          "text": [
            "x+= 5\n",
            "a*b= 5\n",
            "a>b= False\n",
            "True\n"
          ]
        }
      ]
    },
    {
      "cell_type": "markdown",
      "source": [
        "## **Estructura condicionales**\n",
        "\n",
        "Los condicionales son:\n",
        "\n",
        "- if: Representa la activación de un bloque de código que se activa si es cierta una condición.\n",
        "- elif: Representa el sino, una vez se escribe el primer if.\n",
        "- else: Representa el resto de los casos. Por eso no lleva ninguna condición.\n",
        "\n",
        "Ejemplo: Requerir al usuario que ingrese un día de la semana e imprimir un mensaje si es lunes, otro mensaje diferente si es viernes, otro mensaje diferente si es sábado o domingo. Si el día ingresado no es ninguno de esos, imprimir otro mensaje.\n"
      ],
      "metadata": {
        "id": "2D65Gj3KCktf"
      }
    },
    {
      "cell_type": "code",
      "source": [
        "# Indica el día de la semana\n",
        "dia= input('ingresa el día de semana:')\n",
        "\n",
        "if (dia == 'lunes'):\n",
        "  print('Pucha, recién es lunes!!')\n",
        "elif (dia=='viernes'):\n",
        "  print('Yuhuuuu!!!, mañana es finde....')\n",
        "elif (dia == 'sabado' or 'domingo'):\n",
        "  print('Finde... Findeeeee....')\n",
        "else:\n",
        "  print('seguimos esperando el fin de semana')"
      ],
      "metadata": {
        "colab": {
          "base_uri": "https://localhost:8080/"
        },
        "id": "ucs2Ez_uAhTc",
        "outputId": "ac688dda-35b3-4b95-9dbf-fad6fe78a51b"
      },
      "execution_count": 21,
      "outputs": [
        {
          "output_type": "stream",
          "name": "stdout",
          "text": [
            "ingresa el día de semana:domingo\n",
            "Finde... Findeeeee....\n"
          ]
        }
      ]
    },
    {
      "cell_type": "markdown",
      "source": [
        "## **Estructuras iterativas**\n",
        "\n",
        "Las estructuras iterativas son:\n",
        "\n",
        "- for: el número de iteraciones se encuentra definida anticipadamente.\n",
        "- while: el número de iteraciones se encuentra definida mientas que una condición se cumpla.\n",
        "\n",
        "Ejemplo con for: elabora un ciclo for donde imprima cada letra de la palabra Python por separado.\n",
        "\n",
        "Ejemplo con while: elabora un ciclo while donde ingrese un entero y reste 1 hasta llegar a 0."
      ],
      "metadata": {
        "id": "-IPyjV7iPS3u"
      }
    },
    {
      "cell_type": "code",
      "source": [
        "# Ejemplo con for:\n",
        "for i in 'Python':\n",
        "  print(i)"
      ],
      "metadata": {
        "colab": {
          "base_uri": "https://localhost:8080/"
        },
        "id": "DE2MzO4oCjox",
        "outputId": "db4b93db-9413-40b2-dff1-25de706e02d2"
      },
      "execution_count": 22,
      "outputs": [
        {
          "output_type": "stream",
          "name": "stdout",
          "text": [
            "P\n",
            "y\n",
            "t\n",
            "h\n",
            "o\n",
            "n\n"
          ]
        }
      ]
    },
    {
      "cell_type": "code",
      "source": [
        "# Ejemplo con while:\n",
        "x= 4\n",
        "while x>=0:\n",
        "  print(x)\n",
        "  x-=1\n",
        "else:\n",
        "  print('Fin del while')"
      ],
      "metadata": {
        "colab": {
          "base_uri": "https://localhost:8080/"
        },
        "id": "YqM-ZYY8R54J",
        "outputId": "b10b4b85-8d34-4b4b-b88e-5ad1bc2cc208"
      },
      "execution_count": 23,
      "outputs": [
        {
          "output_type": "stream",
          "name": "stdout",
          "text": [
            "4\n",
            "3\n",
            "2\n",
            "1\n",
            "0\n",
            "Fin del while\n"
          ]
        }
      ]
    },
    {
      "cell_type": "markdown",
      "source": [
        "## **Listas por comprensión**\n",
        "\n",
        "Nos permite crear listas avanzadas en una misma línea de código.\n",
        "\n",
        "Ejemplo: Crear una lista con las letras de una palabra."
      ],
      "metadata": {
        "id": "jMPCIWJCTuRk"
      }
    },
    {
      "cell_type": "code",
      "source": [
        "#Utilizando una estructura iterativa for\n",
        "lista=[]\n",
        "for letra in 'Python':\n",
        "    lista.append(letra)\n",
        "print(lista)"
      ],
      "metadata": {
        "colab": {
          "base_uri": "https://localhost:8080/"
        },
        "id": "68cZ2FJ5S7vW",
        "outputId": "c62de810-51f9-4e06-fc96-4857bca1ecdf"
      },
      "execution_count": 24,
      "outputs": [
        {
          "output_type": "stream",
          "name": "stdout",
          "text": [
            "['P', 'y', 't', 'h', 'o', 'n']\n"
          ]
        }
      ]
    },
    {
      "cell_type": "code",
      "source": [
        "#Utilizando una lista por comprensión\n",
        "lista = [letra for letra in 'Python']\n",
        "print(lista)"
      ],
      "metadata": {
        "colab": {
          "base_uri": "https://localhost:8080/"
        },
        "id": "WFEpHCbUUJrR",
        "outputId": "5de98e19-75b1-4570-e20c-eae68dce5461"
      },
      "execution_count": 25,
      "outputs": [
        {
          "output_type": "stream",
          "name": "stdout",
          "text": [
            "['P', 'y', 't', 'h', 'o', 'n']\n"
          ]
        }
      ]
    },
    {
      "cell_type": "markdown",
      "source": [
        "# **Funciones**\n"
      ],
      "metadata": {
        "id": "DKXnH-E3VJvs"
      }
    },
    {
      "cell_type": "markdown",
      "source": [
        "## **Funciones integradas**\n",
        "\n",
        "Python tiene una serie de funciones y tipos integrados que siempre están disponibles. Algunas de las más utilizadas son:\n",
        "\n",
        "- abs(v) : entrega valor absoluto de un valor.\n",
        "- all(x) : retorna True si todos los valores de un iterable son True.\n",
        "- any(x) : retorna True si algún valor de un iterable es True.\n",
        "- bool(v) : retorna True al menos que el valor ingresado sea vacío, False, None o 0.\n",
        "- float(v) : transforma valor a número de punto flotante (a decimal).\n",
        "- int(v) : transforma valor a número entero.\n",
        "- list(x) : crea un objeto tipo lista.\n",
        "- pow(b,e) : calcula (alternativa a b**e).\n",
        "- print(o) : convierte a string y muestra en pantalla un objeto.\n",
        "- range(i,f,s): crea una secuencia de números enteros desde i hasta f-1 con salto s.\n",
        "- round(v, n) : redondea un valor a n decimales.\n",
        "- str(o) : convierte un objecto a string.\n",
        "- type(o) : retorna tipo de un objeto.\n"
      ],
      "metadata": {
        "id": "ThrHp9_gVNy5"
      }
    },
    {
      "cell_type": "markdown",
      "source": [
        "## **Funciones definidas por los usuarios**\n",
        "\n",
        "Existen dos tipos de funciones:\n",
        "\n",
        "- def: permite definir nuestras propias funciones. Una vez definida podemos reutilizarlo.\n",
        "- lambda: permite definir nuestra propia función. Sin embargo, no podemos reutilizarla de forma posterior.\n",
        "\n",
        "Las funciones lambda son simplemente una versión acortada.\n",
        "\n",
        "Ejemplo: Función para sumar dos números.\n"
      ],
      "metadata": {
        "id": "L109QwyDYI2W"
      }
    },
    {
      "cell_type": "code",
      "source": [
        "#Utilizando def\n",
        "def suma(a,b):\n",
        "  return a+b"
      ],
      "metadata": {
        "id": "XsWlvtETUbNG"
      },
      "execution_count": 26,
      "outputs": []
    },
    {
      "cell_type": "code",
      "source": [
        "#Utilizando lambda\n",
        "x= lambda a,b: a+b"
      ],
      "metadata": {
        "id": "0JNaH_Aobc_0"
      },
      "execution_count": 27,
      "outputs": []
    },
    {
      "cell_type": "markdown",
      "source": [
        "## **Librerías e instalación**\n",
        "\n",
        "Las librerías de Python son conjuntos de funciones que permiten realizar distintas funciones, ahorrando tiempo y esfuerzo al programador.\n",
        "\n",
        "Un aspecto relevante, es que cada librería tiene un objetivo. Las librerías más utilizadas para el analisis de datos son Numpy, Pandas y Matplotlib.\n",
        "\n",
        "Colab ya viene con librerias instaladas solo debemos utilizar el siguiente código importarlas y tener acceso."
      ],
      "metadata": {
        "id": "PI5ey1Y8cY9i"
      }
    },
    {
      "cell_type": "code",
      "source": [
        "import pandas as pd\n",
        "import numpy as np\n",
        "import matplotlib.pyplot as plt"
      ],
      "metadata": {
        "id": "NZWSF3EwbkQ3"
      },
      "execution_count": 28,
      "outputs": []
    },
    {
      "cell_type": "markdown",
      "source": [
        "Para saber que librerías tenemos instaladas podemos utilizar el comando !pip freeze."
      ],
      "metadata": {
        "id": "O1hczXIWgSS5"
      }
    },
    {
      "cell_type": "code",
      "source": [
        "!pip freeze"
      ],
      "metadata": {
        "id": "XFgrLbDWfjqy"
      },
      "execution_count": null,
      "outputs": []
    },
    {
      "cell_type": "markdown",
      "source": [
        "Para instalar un nueva librería utilizamos el comando !pip install <librería>"
      ],
      "metadata": {
        "id": "H5cNpbn1jDn_"
      }
    },
    {
      "cell_type": "code",
      "source": [
        "!pip install dash"
      ],
      "metadata": {
        "id": "Syp-Veg_iKCI"
      },
      "execution_count": null,
      "outputs": []
    },
    {
      "cell_type": "markdown",
      "source": [
        "# **Numpy**\n",
        "\n",
        "`NumPy` (*Numerical Python*) es uno de las `librerías` más importantes y, probablemente, el más utilizado en el campo del cálculo numérico en el ecosistema de `Python`. `NumPy` extiende esta funcionalidad en el campo del cálculo numérico de la siguiente manera:\n",
        "\n",
        "- Ofrece el objeto `ndarray`, similar a una lista de `Python` pero optimizada para el cálculo numérico. Nos referiremos a este objeto como `array` de `NumPy`, o simplemente `array`.\n",
        "- Implementa funciones matemáticas que pueden trabajar directamente sobre `arrays` sin tener que implementar bucles.\n",
        "- Proporciona funciones para leer/escribir datos a archivos de manera optimizada.\n",
        "- Permite aplicaciones de álgebra lineal, generación de números aleatorios y transformadas de Fourier.\n",
        "\n",
        "El núcleo de `Numpy` está implementado en C, ofreciendo *bindings* en `Python` para interactuar con él. Esto se traduce en que `NumPy` es más rápido que el equivalente en puro `Python`. Muchas otras librerías para el análisis de datos están construidas sobre `NumPy`, utilizando los `ndarrays` como la estructura de datos básica debido a su eficiencia. Para ilustrar esta propiedad vamos a calcular el tiempo necesario para llevar a cabo la misma operación en puro `Python` en comparación con `arrays` de `NumPy`."
      ],
      "metadata": {
        "id": "b_yhlXLAiyBS"
      }
    },
    {
      "cell_type": "markdown",
      "source": [
        "## **El objeto ndarray**\n",
        "\n",
        "La librería `NumPy` está basado en el objeto `ndarray`. Puedes ver este objeto como una lista de `Python` con súperpoderes. El objeto `ndarray` es multidimensional, lo que implica que nos permite representar tanto valores escalares como vectores, matrices y matrices multidimensionales (lo que llamamos tensores).\n",
        "\n",
        "Para poder trabajar con `NumPy`, primero tenemos que importarlo. Es común importarlo con el nombre np."
      ],
      "metadata": {
        "id": "G7qrHivsomlR"
      }
    },
    {
      "cell_type": "code",
      "source": [
        "import numpy as np"
      ],
      "metadata": {
        "id": "7qVxbYLuoq8y"
      },
      "execution_count": 15,
      "outputs": []
    },
    {
      "cell_type": "markdown",
      "source": [
        "Tenemos varias maneras de crear un `array`. Una de ellas es utilizar funciones implementadas en `NumPy` para la creación de `arrays`, indicando el número de elementos en cada dimensión."
      ],
      "metadata": {
        "id": "TZpZuytso2UE"
      }
    },
    {
      "cell_type": "code",
      "source": [
        "#Crear un vector de ceros\n",
        "print(np.zeros(6))"
      ],
      "metadata": {
        "colab": {
          "base_uri": "https://localhost:8080/"
        },
        "id": "9rfThu_9oyml",
        "outputId": "4c58dc0a-c8cf-46df-d11b-1f30fb23307b"
      },
      "execution_count": 35,
      "outputs": [
        {
          "output_type": "stream",
          "name": "stdout",
          "text": [
            "[0. 0. 0. 0. 0. 0.]\n"
          ]
        }
      ]
    },
    {
      "cell_type": "code",
      "source": [
        "#Crear una matriz de ceros\n",
        "print(np.zeros((3, 5)))"
      ],
      "metadata": {
        "colab": {
          "base_uri": "https://localhost:8080/"
        },
        "id": "RxzQaWYKo6Ah",
        "outputId": "a18d3a8e-6003-4760-e63d-9dfdae956fcc"
      },
      "execution_count": 36,
      "outputs": [
        {
          "output_type": "stream",
          "name": "stdout",
          "text": [
            "[[0. 0. 0. 0. 0.]\n",
            " [0. 0. 0. 0. 0.]\n",
            " [0. 0. 0. 0. 0.]]\n"
          ]
        }
      ]
    },
    {
      "cell_type": "markdown",
      "source": [
        "De la misma manera podemos crear `arrays` de `1`, con un valor determinado o sin inicializar con las funciones `np.one()`, `np.full()` o `np.empty()` respectivamente. Estas son algunas de las propiedades de un array."
      ],
      "metadata": {
        "id": "rlkxZBUbpDmz"
      }
    },
    {
      "cell_type": "code",
      "source": [
        "a= np.ones((3, 5))\n",
        "a"
      ],
      "metadata": {
        "colab": {
          "base_uri": "https://localhost:8080/"
        },
        "id": "4amw4slLo8Uy",
        "outputId": "b430b2c2-e567-4444-c47f-e62925732a7c"
      },
      "execution_count": 39,
      "outputs": [
        {
          "output_type": "execute_result",
          "data": {
            "text/plain": [
              "array([[1., 1., 1., 1., 1.],\n",
              "       [1., 1., 1., 1., 1.],\n",
              "       [1., 1., 1., 1., 1.]])"
            ]
          },
          "metadata": {},
          "execution_count": 39
        }
      ]
    },
    {
      "cell_type": "code",
      "source": [
        "#Obtener el número de elementos en cada dimension\n",
        "a.shape"
      ],
      "metadata": {
        "colab": {
          "base_uri": "https://localhost:8080/"
        },
        "id": "JusXCODcpHZr",
        "outputId": "5455850d-4a79-4268-b810-43c6ea5d1ed2"
      },
      "execution_count": 40,
      "outputs": [
        {
          "output_type": "execute_result",
          "data": {
            "text/plain": [
              "(3, 5)"
            ]
          },
          "metadata": {},
          "execution_count": 40
        }
      ]
    },
    {
      "cell_type": "code",
      "source": [
        "#Obtener la cantidad de elementos totales en el array\n",
        "a.size"
      ],
      "metadata": {
        "colab": {
          "base_uri": "https://localhost:8080/"
        },
        "id": "qnZ_fOGRpOQL",
        "outputId": "0c817c5e-6adb-48a5-ca65-fdb20beff589"
      },
      "execution_count": 41,
      "outputs": [
        {
          "output_type": "execute_result",
          "data": {
            "text/plain": [
              "15"
            ]
          },
          "metadata": {},
          "execution_count": 41
        }
      ]
    },
    {
      "cell_type": "markdown",
      "source": [
        "Otra manera muy común de inicializar `arrays` de `Numpy` es mediante `listas` de `Python`. Para ello usamos la función `np.array()`."
      ],
      "metadata": {
        "id": "Bm_3rmnJpVZO"
      }
    },
    {
      "cell_type": "code",
      "source": [
        "a=np.array([[0, 1, 2],[3, 4, 5]])\n",
        "print(a)\n",
        "print(a.shape)\n",
        "print(a.size)"
      ],
      "metadata": {
        "colab": {
          "base_uri": "https://localhost:8080/"
        },
        "id": "YJScVac8pVsd",
        "outputId": "0685fa5b-f64e-4789-ff34-822f7198e606"
      },
      "execution_count": 43,
      "outputs": [
        {
          "output_type": "stream",
          "name": "stdout",
          "text": [
            "[[0 1 2]\n",
            " [3 4 5]]\n",
            "(2, 3)\n",
            "6\n"
          ]
        }
      ]
    },
    {
      "cell_type": "markdown",
      "source": [
        "Por último, también podemos crear `arrays` mediante funciones secuenciales o con valores aleatorios de la siguiente manera."
      ],
      "metadata": {
        "id": "UDUzb4-bpZ2t"
      }
    },
    {
      "cell_type": "code",
      "source": [
        "# vector de `int` en rango\n",
        "np.arange(0, 7) #entrega los valores hasta (t-1)"
      ],
      "metadata": {
        "colab": {
          "base_uri": "https://localhost:8080/"
        },
        "id": "x9rmMEJKpXEJ",
        "outputId": "d8c55274-2ab2-4031-c284-2c8091e6b8ae"
      },
      "execution_count": 44,
      "outputs": [
        {
          "output_type": "execute_result",
          "data": {
            "text/plain": [
              "array([0, 1, 2, 3, 4, 5, 6])"
            ]
          },
          "metadata": {},
          "execution_count": 44
        }
      ]
    },
    {
      "cell_type": "code",
      "source": [
        "# vector de `float` en rango\n",
        "np.linspace(0, 1, 5)"
      ],
      "metadata": {
        "colab": {
          "base_uri": "https://localhost:8080/"
        },
        "id": "KC1WNK_opce2",
        "outputId": "09e592bf-8b0c-4c4a-fa21-4f553631e95f"
      },
      "execution_count": 45,
      "outputs": [
        {
          "output_type": "execute_result",
          "data": {
            "text/plain": [
              "array([0.  , 0.25, 0.5 , 0.75, 1.  ])"
            ]
          },
          "metadata": {},
          "execution_count": 45
        }
      ]
    },
    {
      "cell_type": "markdown",
      "source": [
        "## **Modificación de estructura del array**\n",
        "\n",
        "Es muy común cambiar la forma de un `array` para acomodarlo a ciertas operaciones."
      ],
      "metadata": {
        "id": "xYEo4twSrPjR"
      }
    },
    {
      "cell_type": "code",
      "source": [
        "# array\n",
        "a = np.arange(10)\n",
        "a"
      ],
      "metadata": {
        "colab": {
          "base_uri": "https://localhost:8080/"
        },
        "id": "4LlNW6nXpfQ0",
        "outputId": "d4d6e090-3526-4335-9c82-226e3d236ccd"
      },
      "execution_count": 46,
      "outputs": [
        {
          "output_type": "execute_result",
          "data": {
            "text/plain": [
              "array([0, 1, 2, 3, 4, 5, 6, 7, 8, 9])"
            ]
          },
          "metadata": {},
          "execution_count": 46
        }
      ]
    },
    {
      "cell_type": "code",
      "source": [
        "# convertir en una matriz\n",
        "a2 = a.reshape(2,5)\n",
        "a2"
      ],
      "metadata": {
        "colab": {
          "base_uri": "https://localhost:8080/"
        },
        "id": "F_MNcFcTrUt2",
        "outputId": "ed561106-a841-4940-d717-5c4000e13e2f"
      },
      "execution_count": 47,
      "outputs": [
        {
          "output_type": "execute_result",
          "data": {
            "text/plain": [
              "array([[0, 1, 2, 3, 4],\n",
              "       [5, 6, 7, 8, 9]])"
            ]
          },
          "metadata": {},
          "execution_count": 47
        }
      ]
    },
    {
      "cell_type": "markdown",
      "source": [
        "Para poder cambiar la forma del `array` el número de elementos tiene que encajar en el número de nuevas dimensiones."
      ],
      "metadata": {
        "id": "2lY7J31hrcrd"
      }
    },
    {
      "cell_type": "code",
      "source": [
        "a.reshape(2,4)"
      ],
      "metadata": {
        "id": "OXAPlrIArXqF"
      },
      "execution_count": null,
      "outputs": []
    },
    {
      "cell_type": "markdown",
      "source": [
        "## **Operaciones aritméticas**\n",
        "Una de las aplicaciones en las que los `arrays` de `NumPy` brillan es en la facilidad de usar operaciones artiméticas de manera optimizada y sin tener que implementar bucles como hacemos en `Python`. Esta propiedad se conoce como vectorización, algo de lo que hablaremos en más detalle en un futuro post. Podemos usar los operadores que ya conocemos de `Python` directamente con nuestros arrays."
      ],
      "metadata": {
        "id": "Wir0tQKSrj7y"
      }
    },
    {
      "cell_type": "code",
      "source": [
        "a = np.array([14, 23, 32, 41])\n",
        "b = np.array([5,  4,  3,  2])\n",
        "\n",
        "a + b"
      ],
      "metadata": {
        "colab": {
          "base_uri": "https://localhost:8080/"
        },
        "id": "doa8jUmuraE8",
        "outputId": "596e185c-8f17-4ee8-b78e-5a5ab290a99d"
      },
      "execution_count": 49,
      "outputs": [
        {
          "output_type": "execute_result",
          "data": {
            "text/plain": [
              "array([19, 27, 35, 43])"
            ]
          },
          "metadata": {},
          "execution_count": 49
        }
      ]
    },
    {
      "cell_type": "code",
      "source": [
        "a - b"
      ],
      "metadata": {
        "colab": {
          "base_uri": "https://localhost:8080/"
        },
        "id": "wQbB5qWErlsv",
        "outputId": "0abf4940-6c6c-479d-d125-89a56e65ac2f"
      },
      "execution_count": 50,
      "outputs": [
        {
          "output_type": "execute_result",
          "data": {
            "text/plain": [
              "array([ 9, 19, 29, 39])"
            ]
          },
          "metadata": {},
          "execution_count": 50
        }
      ]
    },
    {
      "cell_type": "code",
      "source": [
        "a*b"
      ],
      "metadata": {
        "colab": {
          "base_uri": "https://localhost:8080/"
        },
        "id": "0D5VEKKXrnHn",
        "outputId": "b966e083-cdf3-44e9-9eb8-e28a5005ebc3"
      },
      "execution_count": 51,
      "outputs": [
        {
          "output_type": "execute_result",
          "data": {
            "text/plain": [
              "array([70, 92, 96, 82])"
            ]
          },
          "metadata": {},
          "execution_count": 51
        }
      ]
    },
    {
      "cell_type": "code",
      "source": [
        "a / b"
      ],
      "metadata": {
        "colab": {
          "base_uri": "https://localhost:8080/"
        },
        "id": "NDdUONpiroBh",
        "outputId": "66ca78a8-adb7-4208-e12b-ffe1a7116e10"
      },
      "execution_count": 52,
      "outputs": [
        {
          "output_type": "execute_result",
          "data": {
            "text/plain": [
              "array([ 2.8       ,  5.75      , 10.66666667, 20.5       ])"
            ]
          },
          "metadata": {},
          "execution_count": 52
        }
      ]
    },
    {
      "cell_type": "markdown",
      "source": [
        "Podremos aplicar estas operaciones siempre que las dimensiones de los `arrays` coincidan."
      ],
      "metadata": {
        "id": "OMpUcwXerr_D"
      }
    },
    {
      "cell_type": "markdown",
      "source": [
        "## **Operaciones estadísticas**\n",
        "\n",
        "Podemos usar `NumPy` para analizar datos usando estadística. Aprenderemos diferentes métodos para calcular propiedades estadísticas de los datos, como encontrar la media y la desviación standard. Esto servirá para entender cómo podemos usar la estadística para llegar a conclusiones acerca de los datos.\n",
        "\n",
        "La estadística nos ayuda a entender mejor los datos. Usando estadística podremos inferir, con cierta certeza, que probabilidades de ocurrencia existen sobre algo y nos ayuda a leer las propiedades acerca de los datos."
      ],
      "metadata": {
        "id": "RZ6Ifzc_znBi"
      }
    },
    {
      "cell_type": "code",
      "source": [
        "#Calcular el promedio\n",
        "arr= np.array([4,9.4,3,2,5,6,7,6.87])\n",
        "np.mean(arr)"
      ],
      "metadata": {
        "colab": {
          "base_uri": "https://localhost:8080/"
        },
        "id": "aLyVUsylro96",
        "outputId": "6ed34ab2-a012-43ee-c20b-0b147ccc7368"
      },
      "execution_count": 53,
      "outputs": [
        {
          "output_type": "execute_result",
          "data": {
            "text/plain": [
              "5.4087499999999995"
            ]
          },
          "metadata": {},
          "execution_count": 53
        }
      ]
    },
    {
      "cell_type": "code",
      "source": [
        "#Redondear a un número especifico de decimales\n",
        "np.round(np.mean(arr),2)"
      ],
      "metadata": {
        "colab": {
          "base_uri": "https://localhost:8080/"
        },
        "id": "3Dmp1N5qzqic",
        "outputId": "158f9260-110e-4026-cbdb-ef89ae1eef72"
      },
      "execution_count": 54,
      "outputs": [
        {
          "output_type": "execute_result",
          "data": {
            "text/plain": [
              "5.41"
            ]
          },
          "metadata": {},
          "execution_count": 54
        }
      ]
    },
    {
      "cell_type": "code",
      "source": [
        "#Calcular la mediana\n",
        "arr= np.array([4,9.4,3,2,5,6])\n",
        "np.median(arr)"
      ],
      "metadata": {
        "colab": {
          "base_uri": "https://localhost:8080/"
        },
        "id": "5XzcqXdLzrt5",
        "outputId": "f14dac69-470e-44f3-ad36-c706b6f4e432"
      },
      "execution_count": 55,
      "outputs": [
        {
          "output_type": "execute_result",
          "data": {
            "text/plain": [
              "4.5"
            ]
          },
          "metadata": {},
          "execution_count": 55
        }
      ]
    },
    {
      "cell_type": "code",
      "source": [
        "#Calcular la desviación estandar\n",
        "arr= np.array([1,2,3,4,4,4,6,6,7,8,8])\n",
        "np.std(arr)"
      ],
      "metadata": {
        "colab": {
          "base_uri": "https://localhost:8080/"
        },
        "id": "Iork9218zta3",
        "outputId": "accd4795-91d8-4bdf-b445-4a3ac8fd0ae2"
      },
      "execution_count": 56,
      "outputs": [
        {
          "output_type": "execute_result",
          "data": {
            "text/plain": [
              "2.2489667048823607"
            ]
          },
          "metadata": {},
          "execution_count": 56
        }
      ]
    },
    {
      "cell_type": "markdown",
      "source": [
        "Puedes obtener más información sobre operaciones estadísticas con NumPy en el siguiente link [Link](https://numpy.org/doc/stable/reference/routines.statistics.html)"
      ],
      "metadata": {
        "id": "c07BHjzMz1Zc"
      }
    },
    {
      "cell_type": "markdown",
      "source": [
        "# **Pandas**\n",
        "\n",
        "`Pandas` es una librería de `Python` especializada en el manejo y análisis de estructuras de datos. Las principales características de esta librería son:\n",
        "\n",
        "- Define una estructuras de datos basadas en los arrays de la librería `NumPy` pero con nuevas funcionalidades.\n",
        "- Permite leer y escribir fácilmente ficheros en formato CSV, Excel y bases de datos SQL.\n",
        "- Permite acceder a los datos mediante índices o nombres para filas y columnas.\n",
        "- Ofrece métodos para reordenar, dividir y combinar conjuntos de datos.\n",
        "- Permite trabajar con series temporales.\n",
        "- Realiza todas estas operaciones de manera muy eficiente.\n",
        "\n",
        "Las dos estructuras de datos de `Pandas` son las `Series` y los `Dataframes`, donde una `Serie` posee una estructura similar al `diccionario` de `Python` (par clave-valor) y un `Dataframe` es una matriz (bidimensional) con sus correspondientes filas y columnas.\n",
        "\n",
        "En el siguiente [Link](https://pandas.pydata.org/) puedes encontrar la documentación oficial de la librería, para apoyarte en caso de dudas o consultas, cuenta con ejemplos para apoyar el aprendizaje.\n",
        "\n",
        "Para poder trabajar con `Pandas`, primero tenemos que importarlo. Es comun importarlo con `pd`."
      ],
      "metadata": {
        "id": "_b_PGsD40WEo"
      }
    },
    {
      "cell_type": "code",
      "source": [
        "import pandas as pd"
      ],
      "metadata": {
        "id": "YvqButXlzxdg"
      },
      "execution_count": 3,
      "outputs": []
    },
    {
      "cell_type": "markdown",
      "source": [
        "## **Series**\n",
        "\n",
        "Es una estructura de datos unidimensional con un conjunto de datos asociados a un índice. Se puede crear directamente desde un array o una lista. Cada dato de una serie va asociado a un índice (index)."
      ],
      "metadata": {
        "id": "MvECcmDNbNZ9"
      }
    },
    {
      "cell_type": "code",
      "source": [
        "#Ejemplo de crear Series con del total de habilidad de cada pokemon\n",
        "pd.Series([318,309,314], index=['bulbasaur','charmander','squirtle'])"
      ],
      "metadata": {
        "colab": {
          "base_uri": "https://localhost:8080/"
        },
        "id": "ahLsghc90qCk",
        "outputId": "638a596f-aa9e-4b67-df65-875ba6f04eea"
      },
      "execution_count": 8,
      "outputs": [
        {
          "output_type": "execute_result",
          "data": {
            "text/plain": [
              "bulbasaur     318\n",
              "charmander    309\n",
              "squirtle      314\n",
              "dtype: int64"
            ]
          },
          "metadata": {},
          "execution_count": 8
        }
      ]
    },
    {
      "cell_type": "code",
      "source": [
        "#Promedio de habilidad de cada pokemon\n",
        "pd.Series([318,309,314], index=['bulbasaur','charmander','squirtle']).mean()"
      ],
      "metadata": {
        "colab": {
          "base_uri": "https://localhost:8080/"
        },
        "id": "wAWztzPUe9-_",
        "outputId": "f7d126b6-10c4-4580-ff45-29bea456fdd9"
      },
      "execution_count": 10,
      "outputs": [
        {
          "output_type": "execute_result",
          "data": {
            "text/plain": [
              "313.6666666666667"
            ]
          },
          "metadata": {},
          "execution_count": 10
        }
      ]
    },
    {
      "cell_type": "markdown",
      "source": [
        "Se puede obtener otra información de índole estadístico. Puedes encontrar más información en la documentación apretando el siguiente [Link](https://pandas.pydata.org/pandas-docs/stable/reference/api/pandas.Series.mean.html#pandas.Series.mean).\n",
        "\n"
      ],
      "metadata": {
        "id": "rYHlvi0tfCJR"
      }
    },
    {
      "cell_type": "markdown",
      "source": [
        "## DataFrame\n",
        "\n",
        "Es una estructura de datos tabulares bidimensional, potencialmente heterogénea y de tamaño variable, con ejes etiquetados (filas y columnas). Un marco de datos es una estructura de datos bidimensional, es decir, los datos están alineados en forma de tabla en filas y columnas. Pandas DataFrame consta de tres componentes principales: datos , filas y columnas ."
      ],
      "metadata": {
        "id": "3EJKZe-Uf6On"
      }
    },
    {
      "cell_type": "code",
      "source": [
        "dic_pokemon={\n",
        "  'Nombre':['bulbasaur','charmander','squirtle'],\n",
        "  'Type1':['grass','fire','water'],\n",
        "  'Total':[318,309,314]\n",
        "}\n",
        "\n",
        "pd.DataFrame(dic_pokemon)"
      ],
      "metadata": {
        "colab": {
          "base_uri": "https://localhost:8080/",
          "height": 143
        },
        "id": "jQd3lkDVgUEL",
        "outputId": "a355e627-1a41-4943-b6c7-8631bd147a99"
      },
      "execution_count": 25,
      "outputs": [
        {
          "output_type": "execute_result",
          "data": {
            "text/plain": [
              "       Nombre  Type1  Total\n",
              "0   bulbasaur  grass    318\n",
              "1  charmander   fire    309\n",
              "2    squirtle  water    314"
            ],
            "text/html": [
              "\n",
              "  <div id=\"df-0a07198c-8879-4358-a964-2ff95d7adb66\" class=\"colab-df-container\">\n",
              "    <div>\n",
              "<style scoped>\n",
              "    .dataframe tbody tr th:only-of-type {\n",
              "        vertical-align: middle;\n",
              "    }\n",
              "\n",
              "    .dataframe tbody tr th {\n",
              "        vertical-align: top;\n",
              "    }\n",
              "\n",
              "    .dataframe thead th {\n",
              "        text-align: right;\n",
              "    }\n",
              "</style>\n",
              "<table border=\"1\" class=\"dataframe\">\n",
              "  <thead>\n",
              "    <tr style=\"text-align: right;\">\n",
              "      <th></th>\n",
              "      <th>Nombre</th>\n",
              "      <th>Type1</th>\n",
              "      <th>Total</th>\n",
              "    </tr>\n",
              "  </thead>\n",
              "  <tbody>\n",
              "    <tr>\n",
              "      <th>0</th>\n",
              "      <td>bulbasaur</td>\n",
              "      <td>grass</td>\n",
              "      <td>318</td>\n",
              "    </tr>\n",
              "    <tr>\n",
              "      <th>1</th>\n",
              "      <td>charmander</td>\n",
              "      <td>fire</td>\n",
              "      <td>309</td>\n",
              "    </tr>\n",
              "    <tr>\n",
              "      <th>2</th>\n",
              "      <td>squirtle</td>\n",
              "      <td>water</td>\n",
              "      <td>314</td>\n",
              "    </tr>\n",
              "  </tbody>\n",
              "</table>\n",
              "</div>\n",
              "    <div class=\"colab-df-buttons\">\n",
              "\n",
              "  <div class=\"colab-df-container\">\n",
              "    <button class=\"colab-df-convert\" onclick=\"convertToInteractive('df-0a07198c-8879-4358-a964-2ff95d7adb66')\"\n",
              "            title=\"Convert this dataframe to an interactive table.\"\n",
              "            style=\"display:none;\">\n",
              "\n",
              "  <svg xmlns=\"http://www.w3.org/2000/svg\" height=\"24px\" viewBox=\"0 -960 960 960\">\n",
              "    <path d=\"M120-120v-720h720v720H120Zm60-500h600v-160H180v160Zm220 220h160v-160H400v160Zm0 220h160v-160H400v160ZM180-400h160v-160H180v160Zm440 0h160v-160H620v160ZM180-180h160v-160H180v160Zm440 0h160v-160H620v160Z\"/>\n",
              "  </svg>\n",
              "    </button>\n",
              "\n",
              "  <style>\n",
              "    .colab-df-container {\n",
              "      display:flex;\n",
              "      gap: 12px;\n",
              "    }\n",
              "\n",
              "    .colab-df-convert {\n",
              "      background-color: #E8F0FE;\n",
              "      border: none;\n",
              "      border-radius: 50%;\n",
              "      cursor: pointer;\n",
              "      display: none;\n",
              "      fill: #1967D2;\n",
              "      height: 32px;\n",
              "      padding: 0 0 0 0;\n",
              "      width: 32px;\n",
              "    }\n",
              "\n",
              "    .colab-df-convert:hover {\n",
              "      background-color: #E2EBFA;\n",
              "      box-shadow: 0px 1px 2px rgba(60, 64, 67, 0.3), 0px 1px 3px 1px rgba(60, 64, 67, 0.15);\n",
              "      fill: #174EA6;\n",
              "    }\n",
              "\n",
              "    .colab-df-buttons div {\n",
              "      margin-bottom: 4px;\n",
              "    }\n",
              "\n",
              "    [theme=dark] .colab-df-convert {\n",
              "      background-color: #3B4455;\n",
              "      fill: #D2E3FC;\n",
              "    }\n",
              "\n",
              "    [theme=dark] .colab-df-convert:hover {\n",
              "      background-color: #434B5C;\n",
              "      box-shadow: 0px 1px 3px 1px rgba(0, 0, 0, 0.15);\n",
              "      filter: drop-shadow(0px 1px 2px rgba(0, 0, 0, 0.3));\n",
              "      fill: #FFFFFF;\n",
              "    }\n",
              "  </style>\n",
              "\n",
              "    <script>\n",
              "      const buttonEl =\n",
              "        document.querySelector('#df-0a07198c-8879-4358-a964-2ff95d7adb66 button.colab-df-convert');\n",
              "      buttonEl.style.display =\n",
              "        google.colab.kernel.accessAllowed ? 'block' : 'none';\n",
              "\n",
              "      async function convertToInteractive(key) {\n",
              "        const element = document.querySelector('#df-0a07198c-8879-4358-a964-2ff95d7adb66');\n",
              "        const dataTable =\n",
              "          await google.colab.kernel.invokeFunction('convertToInteractive',\n",
              "                                                    [key], {});\n",
              "        if (!dataTable) return;\n",
              "\n",
              "        const docLinkHtml = 'Like what you see? Visit the ' +\n",
              "          '<a target=\"_blank\" href=https://colab.research.google.com/notebooks/data_table.ipynb>data table notebook</a>'\n",
              "          + ' to learn more about interactive tables.';\n",
              "        element.innerHTML = '';\n",
              "        dataTable['output_type'] = 'display_data';\n",
              "        await google.colab.output.renderOutput(dataTable, element);\n",
              "        const docLink = document.createElement('div');\n",
              "        docLink.innerHTML = docLinkHtml;\n",
              "        element.appendChild(docLink);\n",
              "      }\n",
              "    </script>\n",
              "  </div>\n",
              "\n",
              "\n",
              "<div id=\"df-152f3280-ced0-4fcd-9244-88b17d999154\">\n",
              "  <button class=\"colab-df-quickchart\" onclick=\"quickchart('df-152f3280-ced0-4fcd-9244-88b17d999154')\"\n",
              "            title=\"Suggest charts\"\n",
              "            style=\"display:none;\">\n",
              "\n",
              "<svg xmlns=\"http://www.w3.org/2000/svg\" height=\"24px\"viewBox=\"0 0 24 24\"\n",
              "     width=\"24px\">\n",
              "    <g>\n",
              "        <path d=\"M19 3H5c-1.1 0-2 .9-2 2v14c0 1.1.9 2 2 2h14c1.1 0 2-.9 2-2V5c0-1.1-.9-2-2-2zM9 17H7v-7h2v7zm4 0h-2V7h2v10zm4 0h-2v-4h2v4z\"/>\n",
              "    </g>\n",
              "</svg>\n",
              "  </button>\n",
              "\n",
              "<style>\n",
              "  .colab-df-quickchart {\n",
              "      --bg-color: #E8F0FE;\n",
              "      --fill-color: #1967D2;\n",
              "      --hover-bg-color: #E2EBFA;\n",
              "      --hover-fill-color: #174EA6;\n",
              "      --disabled-fill-color: #AAA;\n",
              "      --disabled-bg-color: #DDD;\n",
              "  }\n",
              "\n",
              "  [theme=dark] .colab-df-quickchart {\n",
              "      --bg-color: #3B4455;\n",
              "      --fill-color: #D2E3FC;\n",
              "      --hover-bg-color: #434B5C;\n",
              "      --hover-fill-color: #FFFFFF;\n",
              "      --disabled-bg-color: #3B4455;\n",
              "      --disabled-fill-color: #666;\n",
              "  }\n",
              "\n",
              "  .colab-df-quickchart {\n",
              "    background-color: var(--bg-color);\n",
              "    border: none;\n",
              "    border-radius: 50%;\n",
              "    cursor: pointer;\n",
              "    display: none;\n",
              "    fill: var(--fill-color);\n",
              "    height: 32px;\n",
              "    padding: 0;\n",
              "    width: 32px;\n",
              "  }\n",
              "\n",
              "  .colab-df-quickchart:hover {\n",
              "    background-color: var(--hover-bg-color);\n",
              "    box-shadow: 0 1px 2px rgba(60, 64, 67, 0.3), 0 1px 3px 1px rgba(60, 64, 67, 0.15);\n",
              "    fill: var(--button-hover-fill-color);\n",
              "  }\n",
              "\n",
              "  .colab-df-quickchart-complete:disabled,\n",
              "  .colab-df-quickchart-complete:disabled:hover {\n",
              "    background-color: var(--disabled-bg-color);\n",
              "    fill: var(--disabled-fill-color);\n",
              "    box-shadow: none;\n",
              "  }\n",
              "\n",
              "  .colab-df-spinner {\n",
              "    border: 2px solid var(--fill-color);\n",
              "    border-color: transparent;\n",
              "    border-bottom-color: var(--fill-color);\n",
              "    animation:\n",
              "      spin 1s steps(1) infinite;\n",
              "  }\n",
              "\n",
              "  @keyframes spin {\n",
              "    0% {\n",
              "      border-color: transparent;\n",
              "      border-bottom-color: var(--fill-color);\n",
              "      border-left-color: var(--fill-color);\n",
              "    }\n",
              "    20% {\n",
              "      border-color: transparent;\n",
              "      border-left-color: var(--fill-color);\n",
              "      border-top-color: var(--fill-color);\n",
              "    }\n",
              "    30% {\n",
              "      border-color: transparent;\n",
              "      border-left-color: var(--fill-color);\n",
              "      border-top-color: var(--fill-color);\n",
              "      border-right-color: var(--fill-color);\n",
              "    }\n",
              "    40% {\n",
              "      border-color: transparent;\n",
              "      border-right-color: var(--fill-color);\n",
              "      border-top-color: var(--fill-color);\n",
              "    }\n",
              "    60% {\n",
              "      border-color: transparent;\n",
              "      border-right-color: var(--fill-color);\n",
              "    }\n",
              "    80% {\n",
              "      border-color: transparent;\n",
              "      border-right-color: var(--fill-color);\n",
              "      border-bottom-color: var(--fill-color);\n",
              "    }\n",
              "    90% {\n",
              "      border-color: transparent;\n",
              "      border-bottom-color: var(--fill-color);\n",
              "    }\n",
              "  }\n",
              "</style>\n",
              "\n",
              "  <script>\n",
              "    async function quickchart(key) {\n",
              "      const quickchartButtonEl =\n",
              "        document.querySelector('#' + key + ' button');\n",
              "      quickchartButtonEl.disabled = true;  // To prevent multiple clicks.\n",
              "      quickchartButtonEl.classList.add('colab-df-spinner');\n",
              "      try {\n",
              "        const charts = await google.colab.kernel.invokeFunction(\n",
              "            'suggestCharts', [key], {});\n",
              "      } catch (error) {\n",
              "        console.error('Error during call to suggestCharts:', error);\n",
              "      }\n",
              "      quickchartButtonEl.classList.remove('colab-df-spinner');\n",
              "      quickchartButtonEl.classList.add('colab-df-quickchart-complete');\n",
              "    }\n",
              "    (() => {\n",
              "      let quickchartButtonEl =\n",
              "        document.querySelector('#df-152f3280-ced0-4fcd-9244-88b17d999154 button');\n",
              "      quickchartButtonEl.style.display =\n",
              "        google.colab.kernel.accessAllowed ? 'block' : 'none';\n",
              "    })();\n",
              "  </script>\n",
              "</div>\n",
              "\n",
              "    </div>\n",
              "  </div>\n"
            ]
          },
          "metadata": {},
          "execution_count": 25
        }
      ]
    },
    {
      "cell_type": "code",
      "source": [],
      "metadata": {
        "id": "BDfdNDCshOqW"
      },
      "execution_count": null,
      "outputs": []
    }
  ]
}